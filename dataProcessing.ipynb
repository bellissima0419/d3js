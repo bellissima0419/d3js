{
 "cells": [
  {
   "cell_type": "markdown",
   "metadata": {},
   "source": [
    "# Stack Overflow Annual Developer Survey (2019)\n",
    "\n",
    "### Dataset for this Notebook:\n",
    "[stackoverflow survey 2019](https://insights.stackoverflow.com/survey)\n",
    "\n",
    "----------------"
   ]
  },
  {
   "cell_type": "code",
   "execution_count": 3,
   "metadata": {},
   "outputs": [],
   "source": [
    "import pandas as pd\n",
    "import numpy as np\n",
    "import re\n",
    "from datetime import datetime\n",
    "import time\n",
    "import matplotlib.pyplot as plt\n",
    "from sqlalchemy import create_engine\n",
    "import sqlite3\n"
   ]
  },
  {
   "cell_type": "code",
   "execution_count": 4,
   "metadata": {},
   "outputs": [],
   "source": [
    "survey_results_csv = \"developer_survey_2019/survey_results_public.csv\""
   ]
  },
  {
   "cell_type": "code",
   "execution_count": 5,
   "metadata": {},
   "outputs": [],
   "source": [
    "database_path = \"dash_app/db/js_overload.sqlite\""
   ]
  },
  {
   "cell_type": "code",
   "execution_count": 6,
   "metadata": {},
   "outputs": [],
   "source": [
    "engine = create_engine(f\"sqlite:///{database_path}\")"
   ]
  },
  {
   "cell_type": "code",
   "execution_count": 7,
   "metadata": {},
   "outputs": [
    {
     "data": {
      "text/plain": [
       "['jso11k']"
      ]
     },
     "execution_count": 7,
     "metadata": {},
     "output_type": "execute_result"
    }
   ],
   "source": [
    "engine.table_names()"
   ]
  },
  {
   "cell_type": "code",
   "execution_count": 8,
   "metadata": {},
   "outputs": [
    {
     "data": {
      "text/plain": [
       "['jso11k']"
      ]
     },
     "execution_count": 8,
     "metadata": {},
     "output_type": "execute_result"
    }
   ],
   "source": [
    "engine.table_names()"
   ]
  },
  {
   "cell_type": "code",
   "execution_count": 9,
   "metadata": {},
   "outputs": [],
   "source": [
    "full_df = pd.read_csv(survey_results_csv)"
   ]
  },
  {
   "cell_type": "code",
   "execution_count": 10,
   "metadata": {},
   "outputs": [
    {
     "data": {
      "text/html": [
       "<div>\n",
       "<style scoped>\n",
       "    .dataframe tbody tr th:only-of-type {\n",
       "        vertical-align: middle;\n",
       "    }\n",
       "\n",
       "    .dataframe tbody tr th {\n",
       "        vertical-align: top;\n",
       "    }\n",
       "\n",
       "    .dataframe thead th {\n",
       "        text-align: right;\n",
       "    }\n",
       "</style>\n",
       "<table border=\"1\" class=\"dataframe\">\n",
       "  <thead>\n",
       "    <tr style=\"text-align: right;\">\n",
       "      <th></th>\n",
       "      <th>Respondent</th>\n",
       "      <th>MainBranch</th>\n",
       "      <th>Hobbyist</th>\n",
       "      <th>OpenSourcer</th>\n",
       "      <th>OpenSource</th>\n",
       "      <th>Employment</th>\n",
       "      <th>Country</th>\n",
       "      <th>Student</th>\n",
       "      <th>EdLevel</th>\n",
       "      <th>UndergradMajor</th>\n",
       "      <th>...</th>\n",
       "      <th>WelcomeChange</th>\n",
       "      <th>SONewContent</th>\n",
       "      <th>Age</th>\n",
       "      <th>Gender</th>\n",
       "      <th>Trans</th>\n",
       "      <th>Sexuality</th>\n",
       "      <th>Ethnicity</th>\n",
       "      <th>Dependents</th>\n",
       "      <th>SurveyLength</th>\n",
       "      <th>SurveyEase</th>\n",
       "    </tr>\n",
       "  </thead>\n",
       "  <tbody>\n",
       "    <tr>\n",
       "      <th>88881</th>\n",
       "      <td>88816</td>\n",
       "      <td>NaN</td>\n",
       "      <td>No</td>\n",
       "      <td>Never</td>\n",
       "      <td>OSS is, on average, of HIGHER quality than pro...</td>\n",
       "      <td>Independent contractor, freelancer, or self-em...</td>\n",
       "      <td>NaN</td>\n",
       "      <td>NaN</td>\n",
       "      <td>NaN</td>\n",
       "      <td>NaN</td>\n",
       "      <td>...</td>\n",
       "      <td>NaN</td>\n",
       "      <td>NaN</td>\n",
       "      <td>NaN</td>\n",
       "      <td>NaN</td>\n",
       "      <td>NaN</td>\n",
       "      <td>NaN</td>\n",
       "      <td>NaN</td>\n",
       "      <td>NaN</td>\n",
       "      <td>NaN</td>\n",
       "      <td>NaN</td>\n",
       "    </tr>\n",
       "    <tr>\n",
       "      <th>88882</th>\n",
       "      <td>88863</td>\n",
       "      <td>NaN</td>\n",
       "      <td>Yes</td>\n",
       "      <td>Less than once per year</td>\n",
       "      <td>OSS is, on average, of HIGHER quality than pro...</td>\n",
       "      <td>Not employed, and not looking for work</td>\n",
       "      <td>Spain</td>\n",
       "      <td>Yes, full-time</td>\n",
       "      <td>Professional degree (JD, MD, etc.)</td>\n",
       "      <td>Computer science, computer engineering, or sof...</td>\n",
       "      <td>...</td>\n",
       "      <td>Somewhat less welcome now than last year</td>\n",
       "      <td>Tech articles written by other developers;Indu...</td>\n",
       "      <td>18.0</td>\n",
       "      <td>Man</td>\n",
       "      <td>No</td>\n",
       "      <td>Straight / Heterosexual</td>\n",
       "      <td>Hispanic or Latino/Latina;White or of European...</td>\n",
       "      <td>No</td>\n",
       "      <td>Appropriate in length</td>\n",
       "      <td>Easy</td>\n",
       "    </tr>\n",
       "  </tbody>\n",
       "</table>\n",
       "<p>2 rows × 85 columns</p>\n",
       "</div>"
      ],
      "text/plain": [
       "       Respondent MainBranch Hobbyist              OpenSourcer  \\\n",
       "88881       88816        NaN       No                    Never   \n",
       "88882       88863        NaN      Yes  Less than once per year   \n",
       "\n",
       "                                              OpenSource  \\\n",
       "88881  OSS is, on average, of HIGHER quality than pro...   \n",
       "88882  OSS is, on average, of HIGHER quality than pro...   \n",
       "\n",
       "                                              Employment Country  \\\n",
       "88881  Independent contractor, freelancer, or self-em...     NaN   \n",
       "88882             Not employed, and not looking for work   Spain   \n",
       "\n",
       "              Student                             EdLevel  \\\n",
       "88881             NaN                                 NaN   \n",
       "88882  Yes, full-time  Professional degree (JD, MD, etc.)   \n",
       "\n",
       "                                          UndergradMajor  ...  \\\n",
       "88881                                                NaN  ...   \n",
       "88882  Computer science, computer engineering, or sof...  ...   \n",
       "\n",
       "                                  WelcomeChange  \\\n",
       "88881                                       NaN   \n",
       "88882  Somewhat less welcome now than last year   \n",
       "\n",
       "                                            SONewContent   Age Gender Trans  \\\n",
       "88881                                                NaN   NaN    NaN   NaN   \n",
       "88882  Tech articles written by other developers;Indu...  18.0    Man    No   \n",
       "\n",
       "                     Sexuality  \\\n",
       "88881                      NaN   \n",
       "88882  Straight / Heterosexual   \n",
       "\n",
       "                                               Ethnicity Dependents  \\\n",
       "88881                                                NaN        NaN   \n",
       "88882  Hispanic or Latino/Latina;White or of European...         No   \n",
       "\n",
       "                SurveyLength SurveyEase  \n",
       "88881                    NaN        NaN  \n",
       "88882  Appropriate in length       Easy  \n",
       "\n",
       "[2 rows x 85 columns]"
      ]
     },
     "execution_count": 10,
     "metadata": {},
     "output_type": "execute_result"
    }
   ],
   "source": [
    "full_df[-2:]"
   ]
  },
  {
   "cell_type": "code",
   "execution_count": 8,
   "metadata": {},
   "outputs": [
    {
     "data": {
      "text/plain": [
       "Index(['Respondent', 'MainBranch', 'Hobbyist', 'OpenSourcer', 'OpenSource',\n",
       "       'Employment', 'Country', 'Student', 'EdLevel', 'UndergradMajor',\n",
       "       'EduOther', 'OrgSize', 'DevType', 'YearsCode', 'Age1stCode',\n",
       "       'YearsCodePro', 'CareerSat', 'JobSat', 'MgrIdiot', 'MgrMoney',\n",
       "       'MgrWant', 'JobSeek', 'LastHireDate', 'LastInt', 'FizzBuzz',\n",
       "       'JobFactors', 'ResumeUpdate', 'CurrencySymbol', 'CurrencyDesc',\n",
       "       'CompTotal', 'CompFreq', 'ConvertedComp', 'WorkWeekHrs', 'WorkPlan',\n",
       "       'WorkChallenge', 'WorkRemote', 'WorkLoc', 'ImpSyn', 'CodeRev',\n",
       "       'CodeRevHrs', 'UnitTests', 'PurchaseHow', 'PurchaseWhat',\n",
       "       'LanguageWorkedWith', 'LanguageDesireNextYear', 'DatabaseWorkedWith',\n",
       "       'DatabaseDesireNextYear', 'PlatformWorkedWith',\n",
       "       'PlatformDesireNextYear', 'WebFrameWorkedWith',\n",
       "       'WebFrameDesireNextYear', 'MiscTechWorkedWith',\n",
       "       'MiscTechDesireNextYear', 'DevEnviron', 'OpSys', 'Containers',\n",
       "       'BlockchainOrg', 'BlockchainIs', 'BetterLife', 'ITperson', 'OffOn',\n",
       "       'SocialMedia', 'Extraversion', 'ScreenName', 'SOVisit1st',\n",
       "       'SOVisitFreq', 'SOVisitTo', 'SOFindAnswer', 'SOTimeSaved',\n",
       "       'SOHowMuchTime', 'SOAccount', 'SOPartFreq', 'SOJobs', 'EntTeams',\n",
       "       'SOComm', 'WelcomeChange', 'SONewContent', 'Age', 'Gender', 'Trans',\n",
       "       'Sexuality', 'Ethnicity', 'Dependents', 'SurveyLength', 'SurveyEase'],\n",
       "      dtype='object')"
      ]
     },
     "execution_count": 8,
     "metadata": {},
     "output_type": "execute_result"
    }
   ],
   "source": [
    "full_df.columns"
   ]
  },
  {
   "cell_type": "code",
   "execution_count": 251,
   "metadata": {},
   "outputs": [],
   "source": [
    "full_df.to_csv(\"developer_survey_2019/jso88k.csv\", index=False)\n"
   ]
  },
  {
   "cell_type": "code",
   "execution_count": 252,
   "metadata": {},
   "outputs": [],
   "source": [
    "database_path = \"dash_app/db/js_overload88k.sqlite\""
   ]
  },
  {
   "cell_type": "code",
   "execution_count": 253,
   "metadata": {},
   "outputs": [],
   "source": [
    "engine = create_engine(f\"sqlite:///{database_path}\")"
   ]
  },
  {
   "cell_type": "code",
   "execution_count": 254,
   "metadata": {},
   "outputs": [],
   "source": [
    "full_df.to_sql(name='jso88k', con=engine, if_exists='replace', index=False)\n"
   ]
  },
  {
   "cell_type": "code",
   "execution_count": 255,
   "metadata": {},
   "outputs": [
    {
     "data": {
      "text/html": [
       "<div>\n",
       "<style scoped>\n",
       "    .dataframe tbody tr th:only-of-type {\n",
       "        vertical-align: middle;\n",
       "    }\n",
       "\n",
       "    .dataframe tbody tr th {\n",
       "        vertical-align: top;\n",
       "    }\n",
       "\n",
       "    .dataframe thead th {\n",
       "        text-align: right;\n",
       "    }\n",
       "</style>\n",
       "<table border=\"1\" class=\"dataframe\">\n",
       "  <thead>\n",
       "    <tr style=\"text-align: right;\">\n",
       "      <th></th>\n",
       "      <th>Respondent</th>\n",
       "      <th>MainBranch</th>\n",
       "      <th>Hobbyist</th>\n",
       "      <th>OpenSourcer</th>\n",
       "      <th>OpenSource</th>\n",
       "      <th>Employment</th>\n",
       "      <th>Country</th>\n",
       "      <th>Student</th>\n",
       "      <th>EdLevel</th>\n",
       "      <th>UndergradMajor</th>\n",
       "      <th>...</th>\n",
       "      <th>WelcomeChange</th>\n",
       "      <th>SONewContent</th>\n",
       "      <th>Age</th>\n",
       "      <th>Gender</th>\n",
       "      <th>Trans</th>\n",
       "      <th>Sexuality</th>\n",
       "      <th>Ethnicity</th>\n",
       "      <th>Dependents</th>\n",
       "      <th>SurveyLength</th>\n",
       "      <th>SurveyEase</th>\n",
       "    </tr>\n",
       "  </thead>\n",
       "  <tbody>\n",
       "    <tr>\n",
       "      <th>88878</th>\n",
       "      <td>88377</td>\n",
       "      <td>None</td>\n",
       "      <td>Yes</td>\n",
       "      <td>Less than once a month but more than once per ...</td>\n",
       "      <td>The quality of OSS and closed source software ...</td>\n",
       "      <td>Not employed, and not looking for work</td>\n",
       "      <td>Canada</td>\n",
       "      <td>No</td>\n",
       "      <td>Primary/elementary school</td>\n",
       "      <td>None</td>\n",
       "      <td>...</td>\n",
       "      <td>None</td>\n",
       "      <td>Tech articles written by other developers;Tech...</td>\n",
       "      <td>NaN</td>\n",
       "      <td>Man</td>\n",
       "      <td>No</td>\n",
       "      <td>None</td>\n",
       "      <td>None</td>\n",
       "      <td>No</td>\n",
       "      <td>Appropriate in length</td>\n",
       "      <td>Easy</td>\n",
       "    </tr>\n",
       "    <tr>\n",
       "      <th>88879</th>\n",
       "      <td>88601</td>\n",
       "      <td>None</td>\n",
       "      <td>No</td>\n",
       "      <td>Never</td>\n",
       "      <td>The quality of OSS and closed source software ...</td>\n",
       "      <td>None</td>\n",
       "      <td>None</td>\n",
       "      <td>None</td>\n",
       "      <td>None</td>\n",
       "      <td>None</td>\n",
       "      <td>...</td>\n",
       "      <td>None</td>\n",
       "      <td>None</td>\n",
       "      <td>NaN</td>\n",
       "      <td>None</td>\n",
       "      <td>None</td>\n",
       "      <td>None</td>\n",
       "      <td>None</td>\n",
       "      <td>None</td>\n",
       "      <td>None</td>\n",
       "      <td>None</td>\n",
       "    </tr>\n",
       "    <tr>\n",
       "      <th>88880</th>\n",
       "      <td>88802</td>\n",
       "      <td>None</td>\n",
       "      <td>No</td>\n",
       "      <td>Never</td>\n",
       "      <td>None</td>\n",
       "      <td>Employed full-time</td>\n",
       "      <td>None</td>\n",
       "      <td>None</td>\n",
       "      <td>None</td>\n",
       "      <td>None</td>\n",
       "      <td>...</td>\n",
       "      <td>None</td>\n",
       "      <td>None</td>\n",
       "      <td>NaN</td>\n",
       "      <td>None</td>\n",
       "      <td>None</td>\n",
       "      <td>None</td>\n",
       "      <td>None</td>\n",
       "      <td>None</td>\n",
       "      <td>None</td>\n",
       "      <td>None</td>\n",
       "    </tr>\n",
       "    <tr>\n",
       "      <th>88881</th>\n",
       "      <td>88816</td>\n",
       "      <td>None</td>\n",
       "      <td>No</td>\n",
       "      <td>Never</td>\n",
       "      <td>OSS is, on average, of HIGHER quality than pro...</td>\n",
       "      <td>Independent contractor, freelancer, or self-em...</td>\n",
       "      <td>None</td>\n",
       "      <td>None</td>\n",
       "      <td>None</td>\n",
       "      <td>None</td>\n",
       "      <td>...</td>\n",
       "      <td>None</td>\n",
       "      <td>None</td>\n",
       "      <td>NaN</td>\n",
       "      <td>None</td>\n",
       "      <td>None</td>\n",
       "      <td>None</td>\n",
       "      <td>None</td>\n",
       "      <td>None</td>\n",
       "      <td>None</td>\n",
       "      <td>None</td>\n",
       "    </tr>\n",
       "    <tr>\n",
       "      <th>88882</th>\n",
       "      <td>88863</td>\n",
       "      <td>None</td>\n",
       "      <td>Yes</td>\n",
       "      <td>Less than once per year</td>\n",
       "      <td>OSS is, on average, of HIGHER quality than pro...</td>\n",
       "      <td>Not employed, and not looking for work</td>\n",
       "      <td>Spain</td>\n",
       "      <td>Yes, full-time</td>\n",
       "      <td>Professional degree (JD, MD, etc.)</td>\n",
       "      <td>Computer science, computer engineering, or sof...</td>\n",
       "      <td>...</td>\n",
       "      <td>Somewhat less welcome now than last year</td>\n",
       "      <td>Tech articles written by other developers;Indu...</td>\n",
       "      <td>18.0</td>\n",
       "      <td>Man</td>\n",
       "      <td>No</td>\n",
       "      <td>Straight / Heterosexual</td>\n",
       "      <td>Hispanic or Latino/Latina;White or of European...</td>\n",
       "      <td>No</td>\n",
       "      <td>Appropriate in length</td>\n",
       "      <td>Easy</td>\n",
       "    </tr>\n",
       "  </tbody>\n",
       "</table>\n",
       "<p>5 rows × 85 columns</p>\n",
       "</div>"
      ],
      "text/plain": [
       "       Respondent MainBranch Hobbyist  \\\n",
       "88878       88377       None      Yes   \n",
       "88879       88601       None       No   \n",
       "88880       88802       None       No   \n",
       "88881       88816       None       No   \n",
       "88882       88863       None      Yes   \n",
       "\n",
       "                                             OpenSourcer  \\\n",
       "88878  Less than once a month but more than once per ...   \n",
       "88879                                              Never   \n",
       "88880                                              Never   \n",
       "88881                                              Never   \n",
       "88882                            Less than once per year   \n",
       "\n",
       "                                              OpenSource  \\\n",
       "88878  The quality of OSS and closed source software ...   \n",
       "88879  The quality of OSS and closed source software ...   \n",
       "88880                                               None   \n",
       "88881  OSS is, on average, of HIGHER quality than pro...   \n",
       "88882  OSS is, on average, of HIGHER quality than pro...   \n",
       "\n",
       "                                              Employment Country  \\\n",
       "88878             Not employed, and not looking for work  Canada   \n",
       "88879                                               None    None   \n",
       "88880                                 Employed full-time    None   \n",
       "88881  Independent contractor, freelancer, or self-em...    None   \n",
       "88882             Not employed, and not looking for work   Spain   \n",
       "\n",
       "              Student                             EdLevel  \\\n",
       "88878              No           Primary/elementary school   \n",
       "88879            None                                None   \n",
       "88880            None                                None   \n",
       "88881            None                                None   \n",
       "88882  Yes, full-time  Professional degree (JD, MD, etc.)   \n",
       "\n",
       "                                          UndergradMajor  ...  \\\n",
       "88878                                               None  ...   \n",
       "88879                                               None  ...   \n",
       "88880                                               None  ...   \n",
       "88881                                               None  ...   \n",
       "88882  Computer science, computer engineering, or sof...  ...   \n",
       "\n",
       "                                  WelcomeChange  \\\n",
       "88878                                      None   \n",
       "88879                                      None   \n",
       "88880                                      None   \n",
       "88881                                      None   \n",
       "88882  Somewhat less welcome now than last year   \n",
       "\n",
       "                                            SONewContent   Age Gender Trans  \\\n",
       "88878  Tech articles written by other developers;Tech...   NaN    Man    No   \n",
       "88879                                               None   NaN   None  None   \n",
       "88880                                               None   NaN   None  None   \n",
       "88881                                               None   NaN   None  None   \n",
       "88882  Tech articles written by other developers;Indu...  18.0    Man    No   \n",
       "\n",
       "                     Sexuality  \\\n",
       "88878                     None   \n",
       "88879                     None   \n",
       "88880                     None   \n",
       "88881                     None   \n",
       "88882  Straight / Heterosexual   \n",
       "\n",
       "                                               Ethnicity Dependents  \\\n",
       "88878                                               None         No   \n",
       "88879                                               None       None   \n",
       "88880                                               None       None   \n",
       "88881                                               None       None   \n",
       "88882  Hispanic or Latino/Latina;White or of European...         No   \n",
       "\n",
       "                SurveyLength SurveyEase  \n",
       "88878  Appropriate in length       Easy  \n",
       "88879                   None       None  \n",
       "88880                   None       None  \n",
       "88881                   None       None  \n",
       "88882  Appropriate in length       Easy  \n",
       "\n",
       "[5 rows x 85 columns]"
      ]
     },
     "execution_count": 255,
     "metadata": {},
     "output_type": "execute_result"
    }
   ],
   "source": [
    "pd.read_sql_query('select * from jso88k', con=engine).tail()"
   ]
  },
  {
   "cell_type": "code",
   "execution_count": 62,
   "metadata": {},
   "outputs": [],
   "source": [
    "# survey_df_200 = full_df[:200].copy()\n",
    "survey_df_300 = full_df.sample(n=300)"
   ]
  },
  {
   "cell_type": "code",
   "execution_count": 42,
   "metadata": {},
   "outputs": [
    {
     "data": {
      "text/plain": [
       "Respondent        300\n",
       "MainBranch        300\n",
       "Hobbyist          300\n",
       "OpenSourcer       300\n",
       "OpenSource        290\n",
       "Employment        296\n",
       "Country           300\n",
       "Student           297\n",
       "EdLevel           295\n",
       "UndergradMajor    255\n",
       "EduOther          290\n",
       "OrgSize           255\n",
       "DevType           281\n",
       "YearsCode         299\n",
       "Age1stCode        296\n",
       "YearsCodePro      268\n",
       "CareerSat         260\n",
       "JobSat            250\n",
       "MgrIdiot          213\n",
       "MgrMoney          213\n",
       "MgrWant           213\n",
       "JobSeek           277\n",
       "LastHireDate      275\n",
       "LastInt           232\n",
       "FizzBuzz          253\n",
       "JobFactors        276\n",
       "ResumeUpdate      263\n",
       "CurrencySymbol    252\n",
       "CurrencyDesc      252\n",
       "CompTotal         195\n",
       "                 ... \n",
       "Containers        285\n",
       "BlockchainOrg     174\n",
       "BlockchainIs      201\n",
       "BetterLife        292\n",
       "ITperson          296\n",
       "OffOn             290\n",
       "SocialMedia       288\n",
       "Extraversion      292\n",
       "ScreenName        272\n",
       "SOVisit1st        284\n",
       "SOVisitFreq       299\n",
       "SOVisitTo         297\n",
       "SOFindAnswer      295\n",
       "SOTimeSaved       292\n",
       "SOHowMuchTime     221\n",
       "SOAccount         297\n",
       "SOPartFreq        258\n",
       "SOJobs            296\n",
       "EntTeams          296\n",
       "SOComm            297\n",
       "WelcomeChange     289\n",
       "SONewContent      229\n",
       "Age               274\n",
       "Gender            294\n",
       "Trans             283\n",
       "Sexuality         266\n",
       "Ethnicity         266\n",
       "Dependents        290\n",
       "SurveyLength      295\n",
       "SurveyEase        298\n",
       "Length: 85, dtype: int64"
      ]
     },
     "execution_count": 42,
     "metadata": {},
     "output_type": "execute_result"
    }
   ],
   "source": [
    "survey_df_300.count()"
   ]
  },
  {
   "cell_type": "code",
   "execution_count": 63,
   "metadata": {},
   "outputs": [],
   "source": [
    "survey_df_300.to_csv(\"developer_survey_2019/survey_2019_300.csv\", index=False)\n"
   ]
  },
  {
   "cell_type": "code",
   "execution_count": null,
   "metadata": {},
   "outputs": [],
   "source": [
    "survey_df_300.to_sql(name='jso300', con=engine, if_exists='replace', index=False)\n"
   ]
  },
  {
   "cell_type": "code",
   "execution_count": null,
   "metadata": {},
   "outputs": [],
   "source": [
    "pd.read_sql_query('select * from jso300', con=engine).tail(1)"
   ]
  },
  {
   "cell_type": "code",
   "execution_count": 67,
   "metadata": {},
   "outputs": [
    {
     "data": {
      "text/html": [
       "<div>\n",
       "<style scoped>\n",
       "    .dataframe tbody tr th:only-of-type {\n",
       "        vertical-align: middle;\n",
       "    }\n",
       "\n",
       "    .dataframe tbody tr th {\n",
       "        vertical-align: top;\n",
       "    }\n",
       "\n",
       "    .dataframe thead th {\n",
       "        text-align: right;\n",
       "    }\n",
       "</style>\n",
       "<table border=\"1\" class=\"dataframe\">\n",
       "  <thead>\n",
       "    <tr style=\"text-align: right;\">\n",
       "      <th></th>\n",
       "      <th>Respondent</th>\n",
       "      <th>MainBranch</th>\n",
       "      <th>Hobbyist</th>\n",
       "      <th>OpenSourcer</th>\n",
       "      <th>OpenSource</th>\n",
       "      <th>Employment</th>\n",
       "      <th>Country</th>\n",
       "      <th>Student</th>\n",
       "      <th>EdLevel</th>\n",
       "      <th>UndergradMajor</th>\n",
       "      <th>...</th>\n",
       "      <th>WelcomeChange</th>\n",
       "      <th>SONewContent</th>\n",
       "      <th>Age</th>\n",
       "      <th>Gender</th>\n",
       "      <th>Trans</th>\n",
       "      <th>Sexuality</th>\n",
       "      <th>Ethnicity</th>\n",
       "      <th>Dependents</th>\n",
       "      <th>SurveyLength</th>\n",
       "      <th>SurveyEase</th>\n",
       "    </tr>\n",
       "  </thead>\n",
       "  <tbody>\n",
       "    <tr>\n",
       "      <th>36169</th>\n",
       "      <td>36393</td>\n",
       "      <td>I am a student who is learning to code</td>\n",
       "      <td>Yes</td>\n",
       "      <td>Never</td>\n",
       "      <td>The quality of OSS and closed source software ...</td>\n",
       "      <td>Not employed, but looking for work</td>\n",
       "      <td>Netherlands</td>\n",
       "      <td>Yes, full-time</td>\n",
       "      <td>Secondary school (e.g. American high school, G...</td>\n",
       "      <td>NaN</td>\n",
       "      <td>...</td>\n",
       "      <td>Just as welcome now as I felt last year</td>\n",
       "      <td>Tech meetups or events in your area;Courses on...</td>\n",
       "      <td>22.0</td>\n",
       "      <td>Man</td>\n",
       "      <td>No</td>\n",
       "      <td>Straight / Heterosexual</td>\n",
       "      <td>White or of European descent</td>\n",
       "      <td>No</td>\n",
       "      <td>Appropriate in length</td>\n",
       "      <td>Easy</td>\n",
       "    </tr>\n",
       "  </tbody>\n",
       "</table>\n",
       "<p>1 rows × 85 columns</p>\n",
       "</div>"
      ],
      "text/plain": [
       "       Respondent                              MainBranch Hobbyist  \\\n",
       "36169       36393  I am a student who is learning to code      Yes   \n",
       "\n",
       "      OpenSourcer                                         OpenSource  \\\n",
       "36169       Never  The quality of OSS and closed source software ...   \n",
       "\n",
       "                               Employment      Country         Student  \\\n",
       "36169  Not employed, but looking for work  Netherlands  Yes, full-time   \n",
       "\n",
       "                                                 EdLevel UndergradMajor  ...  \\\n",
       "36169  Secondary school (e.g. American high school, G...            NaN  ...   \n",
       "\n",
       "                                 WelcomeChange  \\\n",
       "36169  Just as welcome now as I felt last year   \n",
       "\n",
       "                                            SONewContent   Age Gender Trans  \\\n",
       "36169  Tech meetups or events in your area;Courses on...  22.0    Man    No   \n",
       "\n",
       "                     Sexuality                     Ethnicity Dependents  \\\n",
       "36169  Straight / Heterosexual  White or of European descent         No   \n",
       "\n",
       "                SurveyLength SurveyEase  \n",
       "36169  Appropriate in length       Easy  \n",
       "\n",
       "[1 rows x 85 columns]"
      ]
     },
     "execution_count": 67,
     "metadata": {},
     "output_type": "execute_result"
    }
   ],
   "source": [
    "survey_df_300.tail(1)"
   ]
  },
  {
   "cell_type": "code",
   "execution_count": 71,
   "metadata": {},
   "outputs": [],
   "source": [
    "survey_df_300.to_sql(name='jso300', con=engine, if_exists='replace', index=False)\n"
   ]
  },
  {
   "cell_type": "code",
   "execution_count": 76,
   "metadata": {},
   "outputs": [
    {
     "data": {
      "text/html": [
       "<div>\n",
       "<style scoped>\n",
       "    .dataframe tbody tr th:only-of-type {\n",
       "        vertical-align: middle;\n",
       "    }\n",
       "\n",
       "    .dataframe tbody tr th {\n",
       "        vertical-align: top;\n",
       "    }\n",
       "\n",
       "    .dataframe thead th {\n",
       "        text-align: right;\n",
       "    }\n",
       "</style>\n",
       "<table border=\"1\" class=\"dataframe\">\n",
       "  <thead>\n",
       "    <tr style=\"text-align: right;\">\n",
       "      <th></th>\n",
       "      <th>Respondent</th>\n",
       "      <th>MainBranch</th>\n",
       "      <th>Hobbyist</th>\n",
       "      <th>OpenSourcer</th>\n",
       "      <th>OpenSource</th>\n",
       "      <th>Employment</th>\n",
       "      <th>Country</th>\n",
       "      <th>Student</th>\n",
       "      <th>EdLevel</th>\n",
       "      <th>UndergradMajor</th>\n",
       "      <th>...</th>\n",
       "      <th>WelcomeChange</th>\n",
       "      <th>SONewContent</th>\n",
       "      <th>Age</th>\n",
       "      <th>Gender</th>\n",
       "      <th>Trans</th>\n",
       "      <th>Sexuality</th>\n",
       "      <th>Ethnicity</th>\n",
       "      <th>Dependents</th>\n",
       "      <th>SurveyLength</th>\n",
       "      <th>SurveyEase</th>\n",
       "    </tr>\n",
       "  </thead>\n",
       "  <tbody>\n",
       "    <tr>\n",
       "      <th>299</th>\n",
       "      <td>36393</td>\n",
       "      <td>I am a student who is learning to code</td>\n",
       "      <td>Yes</td>\n",
       "      <td>Never</td>\n",
       "      <td>The quality of OSS and closed source software ...</td>\n",
       "      <td>Not employed, but looking for work</td>\n",
       "      <td>Netherlands</td>\n",
       "      <td>Yes, full-time</td>\n",
       "      <td>Secondary school (e.g. American high school, G...</td>\n",
       "      <td>None</td>\n",
       "      <td>...</td>\n",
       "      <td>Just as welcome now as I felt last year</td>\n",
       "      <td>Tech meetups or events in your area;Courses on...</td>\n",
       "      <td>22.0</td>\n",
       "      <td>Man</td>\n",
       "      <td>No</td>\n",
       "      <td>Straight / Heterosexual</td>\n",
       "      <td>White or of European descent</td>\n",
       "      <td>No</td>\n",
       "      <td>Appropriate in length</td>\n",
       "      <td>Easy</td>\n",
       "    </tr>\n",
       "  </tbody>\n",
       "</table>\n",
       "<p>1 rows × 85 columns</p>\n",
       "</div>"
      ],
      "text/plain": [
       "     Respondent                              MainBranch Hobbyist OpenSourcer  \\\n",
       "299       36393  I am a student who is learning to code      Yes       Never   \n",
       "\n",
       "                                            OpenSource  \\\n",
       "299  The quality of OSS and closed source software ...   \n",
       "\n",
       "                             Employment      Country         Student  \\\n",
       "299  Not employed, but looking for work  Netherlands  Yes, full-time   \n",
       "\n",
       "                                               EdLevel UndergradMajor  ...  \\\n",
       "299  Secondary school (e.g. American high school, G...           None  ...   \n",
       "\n",
       "                               WelcomeChange  \\\n",
       "299  Just as welcome now as I felt last year   \n",
       "\n",
       "                                          SONewContent   Age Gender Trans  \\\n",
       "299  Tech meetups or events in your area;Courses on...  22.0    Man    No   \n",
       "\n",
       "                   Sexuality                     Ethnicity Dependents  \\\n",
       "299  Straight / Heterosexual  White or of European descent         No   \n",
       "\n",
       "              SurveyLength SurveyEase  \n",
       "299  Appropriate in length       Easy  \n",
       "\n",
       "[1 rows x 85 columns]"
      ]
     },
     "execution_count": 76,
     "metadata": {},
     "output_type": "execute_result"
    }
   ],
   "source": [
    "pd.read_sql_query('select * from jso300', con=engine).tail(1)"
   ]
  },
  {
   "cell_type": "code",
   "execution_count": 102,
   "metadata": {},
   "outputs": [],
   "source": [
    "survey_df_11000 = full_df.sample(n=11000).copy()"
   ]
  },
  {
   "cell_type": "code",
   "execution_count": 84,
   "metadata": {},
   "outputs": [
    {
     "data": {
      "text/plain": [
       "Respondent        11000\n",
       "MainBranch        10923\n",
       "Hobbyist          11000\n",
       "OpenSourcer       11000\n",
       "OpenSource        10773\n",
       "Employment        10787\n",
       "Country           10980\n",
       "Student           10748\n",
       "EdLevel           10695\n",
       "UndergradMajor     9317\n",
       "EduOther          10415\n",
       "OrgSize            8867\n",
       "DevType           10062\n",
       "YearsCode         10882\n",
       "Age1stCode        10831\n",
       "YearsCodePro       9148\n",
       "CareerSat          8954\n",
       "JobSat             8734\n",
       "MgrIdiot           7560\n",
       "MgrMoney           7566\n",
       "MgrWant            7573\n",
       "JobSeek            9937\n",
       "LastHireDate       9847\n",
       "LastInt            8242\n",
       "FizzBuzz           8744\n",
       "JobFactors         9764\n",
       "ResumeUpdate       9583\n",
       "CurrencySymbol     8778\n",
       "CurrencyDesc       8778\n",
       "CompTotal          6994\n",
       "                  ...  \n",
       "Containers        10537\n",
       "BlockchainOrg      6000\n",
       "BlockchainIs       7365\n",
       "BetterLife        10667\n",
       "ITperson          10777\n",
       "OffOn             10724\n",
       "SocialMedia       10445\n",
       "Extraversion      10811\n",
       "ScreenName         9981\n",
       "SOVisit1st        10366\n",
       "SOVisitFreq       10913\n",
       "SOVisitTo         10880\n",
       "SOFindAnswer      10858\n",
       "SOTimeSaved       10693\n",
       "SOHowMuchTime      8396\n",
       "SOAccount         10856\n",
       "SOPartFreq         9250\n",
       "SOJobs            10881\n",
       "EntTeams          10856\n",
       "SOComm            10893\n",
       "WelcomeChange     10611\n",
       "SONewContent       8651\n",
       "Age                9794\n",
       "Gender            10537\n",
       "Trans             10345\n",
       "Sexuality          9435\n",
       "Ethnicity          9482\n",
       "Dependents        10272\n",
       "SurveyLength      10750\n",
       "SurveyEase        10767\n",
       "Length: 85, dtype: int64"
      ]
     },
     "execution_count": 84,
     "metadata": {},
     "output_type": "execute_result"
    }
   ],
   "source": [
    "survey_df_11000.count()"
   ]
  },
  {
   "cell_type": "code",
   "execution_count": 103,
   "metadata": {},
   "outputs": [],
   "source": [
    "survey_df_11000.to_csv(\"developer_survey_2019/survey_2019_11000.csv\", index=False)\n"
   ]
  },
  {
   "cell_type": "code",
   "execution_count": 104,
   "metadata": {},
   "outputs": [],
   "source": [
    "survey_df_11000.to_sql(name='jso11000', con=engine, if_exists='replace', index=False)\n"
   ]
  },
  {
   "cell_type": "code",
   "execution_count": 111,
   "metadata": {},
   "outputs": [
    {
     "data": {
      "text/html": [
       "<div>\n",
       "<style scoped>\n",
       "    .dataframe tbody tr th:only-of-type {\n",
       "        vertical-align: middle;\n",
       "    }\n",
       "\n",
       "    .dataframe tbody tr th {\n",
       "        vertical-align: top;\n",
       "    }\n",
       "\n",
       "    .dataframe thead th {\n",
       "        text-align: right;\n",
       "    }\n",
       "</style>\n",
       "<table border=\"1\" class=\"dataframe\">\n",
       "  <thead>\n",
       "    <tr style=\"text-align: right;\">\n",
       "      <th></th>\n",
       "      <th>Respondent</th>\n",
       "      <th>MainBranch</th>\n",
       "      <th>Hobbyist</th>\n",
       "      <th>OpenSourcer</th>\n",
       "      <th>OpenSource</th>\n",
       "      <th>Employment</th>\n",
       "      <th>Country</th>\n",
       "      <th>Student</th>\n",
       "      <th>EdLevel</th>\n",
       "      <th>UndergradMajor</th>\n",
       "      <th>...</th>\n",
       "      <th>WelcomeChange</th>\n",
       "      <th>SONewContent</th>\n",
       "      <th>Age</th>\n",
       "      <th>Gender</th>\n",
       "      <th>Trans</th>\n",
       "      <th>Sexuality</th>\n",
       "      <th>Ethnicity</th>\n",
       "      <th>Dependents</th>\n",
       "      <th>SurveyLength</th>\n",
       "      <th>SurveyEase</th>\n",
       "    </tr>\n",
       "  </thead>\n",
       "  <tbody>\n",
       "    <tr>\n",
       "      <th>10999</th>\n",
       "      <td>76403</td>\n",
       "      <td>I am a developer by profession</td>\n",
       "      <td>Yes</td>\n",
       "      <td>Once a month or more often</td>\n",
       "      <td>OSS is, on average, of HIGHER quality than pro...</td>\n",
       "      <td>Independent contractor, freelancer, or self-em...</td>\n",
       "      <td>United Kingdom</td>\n",
       "      <td>No</td>\n",
       "      <td>Secondary school (e.g. American high school, G...</td>\n",
       "      <td>None</td>\n",
       "      <td>...</td>\n",
       "      <td>Not applicable - I did not use Stack Overflow ...</td>\n",
       "      <td>None</td>\n",
       "      <td>55.0</td>\n",
       "      <td>Man</td>\n",
       "      <td>No</td>\n",
       "      <td>Straight / Heterosexual</td>\n",
       "      <td>White or of European descent</td>\n",
       "      <td>Yes</td>\n",
       "      <td>Appropriate in length</td>\n",
       "      <td>Easy</td>\n",
       "    </tr>\n",
       "  </tbody>\n",
       "</table>\n",
       "<p>1 rows × 85 columns</p>\n",
       "</div>"
      ],
      "text/plain": [
       "       Respondent                      MainBranch Hobbyist  \\\n",
       "10999       76403  I am a developer by profession      Yes   \n",
       "\n",
       "                      OpenSourcer  \\\n",
       "10999  Once a month or more often   \n",
       "\n",
       "                                              OpenSource  \\\n",
       "10999  OSS is, on average, of HIGHER quality than pro...   \n",
       "\n",
       "                                              Employment         Country  \\\n",
       "10999  Independent contractor, freelancer, or self-em...  United Kingdom   \n",
       "\n",
       "      Student                                            EdLevel  \\\n",
       "10999      No  Secondary school (e.g. American high school, G...   \n",
       "\n",
       "      UndergradMajor  ...                                      WelcomeChange  \\\n",
       "10999           None  ...  Not applicable - I did not use Stack Overflow ...   \n",
       "\n",
       "      SONewContent   Age Gender Trans                Sexuality  \\\n",
       "10999         None  55.0    Man    No  Straight / Heterosexual   \n",
       "\n",
       "                          Ethnicity Dependents           SurveyLength  \\\n",
       "10999  White or of European descent        Yes  Appropriate in length   \n",
       "\n",
       "      SurveyEase  \n",
       "10999       Easy  \n",
       "\n",
       "[1 rows x 85 columns]"
      ]
     },
     "execution_count": 111,
     "metadata": {},
     "output_type": "execute_result"
    }
   ],
   "source": [
    "pd.read_sql_query('select * from jso11k', con=engine).tail(1)"
   ]
  },
  {
   "cell_type": "markdown",
   "metadata": {},
   "source": [
    "## SQLITE3 QUERIES"
   ]
  },
  {
   "cell_type": "code",
   "execution_count": 1,
   "metadata": {},
   "outputs": [
    {
     "ename": "NameError",
     "evalue": "name 'sqlite3' is not defined",
     "output_type": "error",
     "traceback": [
      "\u001b[0;31m---------------------------------------------------------------------------\u001b[0m",
      "\u001b[0;31mNameError\u001b[0m                                 Traceback (most recent call last)",
      "\u001b[0;32m<ipython-input-1-f99deec4891c>\u001b[0m in \u001b[0;36m<module>\u001b[0;34m\u001b[0m\n\u001b[0;32m----> 1\u001b[0;31m \u001b[0mconn\u001b[0m \u001b[0;34m=\u001b[0m \u001b[0msqlite3\u001b[0m\u001b[0;34m.\u001b[0m\u001b[0mconnect\u001b[0m\u001b[0;34m(\u001b[0m\u001b[0;34m\"dash_app/db/js_overload.sqlite\"\u001b[0m\u001b[0;34m)\u001b[0m\u001b[0;34m\u001b[0m\u001b[0;34m\u001b[0m\u001b[0m\n\u001b[0m\u001b[1;32m      2\u001b[0m \u001b[0mcur\u001b[0m \u001b[0;34m=\u001b[0m \u001b[0mconn\u001b[0m\u001b[0;34m.\u001b[0m\u001b[0mcursor\u001b[0m\u001b[0;34m(\u001b[0m\u001b[0;34m)\u001b[0m\u001b[0;34m\u001b[0m\u001b[0;34m\u001b[0m\u001b[0m\n",
      "\u001b[0;31mNameError\u001b[0m: name 'sqlite3' is not defined"
     ]
    }
   ],
   "source": [
    "conn = sqlite3.connect(\"dash_app/db/js_overload.sqlite\")\n",
    "cur = conn.cursor()"
   ]
  },
  {
   "cell_type": "code",
   "execution_count": 243,
   "metadata": {},
   "outputs": [],
   "source": [
    "# column_names = '''SELECT sql FROM sqlite_master\n",
    "# WHERE tbl_name = `jso11k` AND type = `table`'''"
   ]
  },
  {
   "cell_type": "code",
   "execution_count": 246,
   "metadata": {},
   "outputs": [],
   "source": [
    "column_names = \"SELECT name, sql FROM sqlite_master WHERE type='table' AND name = 'jso11k'\""
   ]
  },
  {
   "cell_type": "code",
   "execution_count": 247,
   "metadata": {},
   "outputs": [
    {
     "data": {
      "text/plain": [
       "<sqlite3.Cursor at 0x7f8bd7d0f880>"
      ]
     },
     "execution_count": 247,
     "metadata": {},
     "output_type": "execute_result"
    }
   ],
   "source": [
    "cur.execute(column_names)"
   ]
  },
  {
   "cell_type": "code",
   "execution_count": 248,
   "metadata": {},
   "outputs": [],
   "source": [
    "rows = cur.fetchall()"
   ]
  },
  {
   "cell_type": "code",
   "execution_count": 249,
   "metadata": {},
   "outputs": [
    {
     "data": {
      "text/plain": [
       "'CREATE TABLE \"jso11k\" (\\n  `Respondent` int(11) NOT NULL,\\n  `MainBranch` text,\\n  `Hobbyist` text,\\n  `OpenSourcer` text,\\n  `OpenSource` text,\\n  `Employment` text,\\n  `Country` text,\\n  `Student` text,\\n  `EdLevel` text,\\n  `UndergradMajor` text,\\n  `EduOther` text,\\n  `OrgSize` text,\\n  `DevType` text,\\n  `YearsCode` int(11) DEFAULT NULL,\\n  `Age1stCode` int(11) DEFAULT NULL,\\n  `YearsCodePro` text,\\n  `CareerSat` text,\\n  `JobSat` text,\\n  `MgrIdiot` text,\\n  `MgrMoney` text,\\n  `MgrWant` text,\\n  `JobSeek` text,\\n  `LastHireDate` text,\\n  `LastInt` text,\\n  `FizzBuzz` text,\\n  `JobFactors` text,\\n  `ResumeUpdate` text,\\n  `CurrencySymbol` text,\\n  `CurrencyDesc` text,\\n  `CompTotal` text,\\n  `CompFreq` text,\\n  `ConvertedComp` text,\\n  `WorkWeekHrs` double DEFAULT NULL,\\n  `WorkPlan` text,\\n  `WorkChallenge` text,\\n  `WorkRemote` text,\\n  `WorkLoc` text,\\n  `ImpSyn` text,\\n  `CodeRev` text,\\n  `CodeRevHrs` text,\\n  `UnitTests` text,\\n  `PurchaseHow` text,\\n  `PurchaseWhat` text,\\n  `LanguageWorkedWith` text,\\n  `LanguageDesireNextYear` text,\\n  `DatabaseWorkedWith` text,\\n  `DatabaseDesireNextYear` text,\\n  `PlatformWorkedWith` text,\\n  `PlatformDesireNextYear` text,\\n  `WebFrameWorkedWith` text,\\n  `WebFrameDesireNextYear` text,\\n  `MiscTechWorkedWith` text,\\n  `MiscTechDesireNextYear` text,\\n  `DevEnviron` text,\\n  `OpSys` text,\\n  `Containers` text,\\n  `BlockchainOrg` text,\\n  `BlockchainIs` text,\\n  `BetterLife` text,\\n  `ITperson` text,\\n  `OffOn` text,\\n  `SocialMedia` text,\\n  `Extraversion` text,\\n  `ScreenName` text,\\n  `SOVisit1st` text,\\n  `SOVisitFreq` text,\\n  `SOVisitTo` text,\\n  `SOFindAnswer` text,\\n  `SOTimeSaved` text,\\n  `SOHowMuchTime` text,\\n  `SOAccount` text,\\n  `SOPartFreq` text,\\n  `SOJobs` text,\\n  `EntTeams` text,\\n  `SOComm` text,\\n  `WelcomeChange` text,\\n  `SONewContent` text,\\n  `Age` text,\\n  `Gender` text,\\n  `Trans` text,\\n  `Sexuality` text,\\n  `Ethnicity` text,\\n  `Dependents` text,\\n  `SurveyLength` text,\\n  `SurveyEase` text,\\n  PRIMARY KEY (`Respondent`)\\n)'"
      ]
     },
     "execution_count": 249,
     "metadata": {},
     "output_type": "execute_result"
    }
   ],
   "source": [
    "type(rows)\n",
    "(rows[0][1])"
   ]
  },
  {
   "cell_type": "code",
   "execution_count": 206,
   "metadata": {},
   "outputs": [],
   "source": [
    "for row in rows:\n",
    "    print(row, '\\n')\n",
    "    print()"
   ]
  },
  {
   "cell_type": "code",
   "execution_count": 199,
   "metadata": {},
   "outputs": [],
   "source": [
    "import re"
   ]
  },
  {
   "cell_type": "code",
   "execution_count": 232,
   "metadata": {},
   "outputs": [],
   "source": [
    "text = rows[0][1]\n",
    "pattern = r'`([A-Za-z0-9]*)`'"
   ]
  },
  {
   "cell_type": "code",
   "execution_count": 231,
   "metadata": {},
   "outputs": [
    {
     "name": "stdout",
     "output_type": "stream",
     "text": [
      "`Respondent`\n"
     ]
    }
   ],
   "source": [
    "m = re.search(pattern, text2)\n",
    "\n",
    "print (m.group())"
   ]
  },
  {
   "cell_type": "code",
   "execution_count": 238,
   "metadata": {},
   "outputs": [
    {
     "data": {
      "text/plain": [
       "['Respondent',\n",
       " 'MainBranch',\n",
       " 'Hobbyist',\n",
       " 'OpenSourcer',\n",
       " 'OpenSource',\n",
       " 'Employment',\n",
       " 'Country',\n",
       " 'Student',\n",
       " 'EdLevel',\n",
       " 'UndergradMajor',\n",
       " 'EduOther',\n",
       " 'OrgSize',\n",
       " 'DevType',\n",
       " 'YearsCode',\n",
       " 'Age1stCode',\n",
       " 'YearsCodePro',\n",
       " 'CareerSat',\n",
       " 'JobSat',\n",
       " 'MgrIdiot',\n",
       " 'MgrMoney',\n",
       " 'MgrWant',\n",
       " 'JobSeek',\n",
       " 'LastHireDate',\n",
       " 'LastInt',\n",
       " 'FizzBuzz',\n",
       " 'JobFactors',\n",
       " 'ResumeUpdate',\n",
       " 'CurrencySymbol',\n",
       " 'CurrencyDesc',\n",
       " 'CompTotal',\n",
       " 'CompFreq',\n",
       " 'ConvertedComp',\n",
       " 'WorkWeekHrs',\n",
       " 'WorkPlan',\n",
       " 'WorkChallenge',\n",
       " 'WorkRemote',\n",
       " 'WorkLoc',\n",
       " 'ImpSyn',\n",
       " 'CodeRev',\n",
       " 'CodeRevHrs',\n",
       " 'UnitTests',\n",
       " 'PurchaseHow',\n",
       " 'PurchaseWhat',\n",
       " 'LanguageWorkedWith',\n",
       " 'LanguageDesireNextYear',\n",
       " 'DatabaseWorkedWith',\n",
       " 'DatabaseDesireNextYear',\n",
       " 'PlatformWorkedWith',\n",
       " 'PlatformDesireNextYear',\n",
       " 'WebFrameWorkedWith',\n",
       " 'WebFrameDesireNextYear',\n",
       " 'MiscTechWorkedWith',\n",
       " 'MiscTechDesireNextYear',\n",
       " 'DevEnviron',\n",
       " 'OpSys',\n",
       " 'Containers',\n",
       " 'BlockchainOrg',\n",
       " 'BlockchainIs',\n",
       " 'BetterLife',\n",
       " 'ITperson',\n",
       " 'OffOn',\n",
       " 'SocialMedia',\n",
       " 'Extraversion',\n",
       " 'ScreenName',\n",
       " 'SOVisit1st',\n",
       " 'SOVisitFreq',\n",
       " 'SOVisitTo',\n",
       " 'SOFindAnswer',\n",
       " 'SOTimeSaved',\n",
       " 'SOHowMuchTime',\n",
       " 'SOAccount',\n",
       " 'SOPartFreq',\n",
       " 'SOJobs',\n",
       " 'EntTeams',\n",
       " 'SOComm',\n",
       " 'WelcomeChange',\n",
       " 'SONewContent',\n",
       " 'Age',\n",
       " 'Gender',\n",
       " 'Trans',\n",
       " 'Sexuality',\n",
       " 'Ethnicity',\n",
       " 'Dependents',\n",
       " 'SurveyLength',\n",
       " 'SurveyEase']"
      ]
     },
     "execution_count": 238,
     "metadata": {},
     "output_type": "execute_result"
    }
   ],
   "source": [
    "# pattern = r'\"([^\"]*)\"'\n",
    "ticks = re.findall(pattern, text2)[:-1]\n",
    "ticks"
   ]
  },
  {
   "cell_type": "code",
   "execution_count": 237,
   "metadata": {},
   "outputs": [
    {
     "data": {
      "text/plain": [
       "list"
      ]
     },
     "execution_count": 237,
     "metadata": {},
     "output_type": "execute_result"
    }
   ],
   "source": [
    "len(ticks[:-1])"
   ]
  },
  {
   "cell_type": "code",
   "execution_count": null,
   "metadata": {},
   "outputs": [],
   "source": [
    "PRAGMA table_info(jso11k)\n"
   ]
  },
  {
   "cell_type": "code",
   "execution_count": 260,
   "metadata": {},
   "outputs": [],
   "source": [
    "conn = sqlite3.connect(\"dash_app/db/js_overload88k.sqlite\")\n",
    "cur = conn.cursor()"
   ]
  },
  {
   "cell_type": "code",
   "execution_count": 261,
   "metadata": {},
   "outputs": [],
   "source": [
    "cols = '''\n",
    "    SELECT name, sql FROM sqlite_master\n",
    "    WHERE type='table' AND name = 'jso88k'\n",
    "'''"
   ]
  },
  {
   "cell_type": "code",
   "execution_count": 262,
   "metadata": {},
   "outputs": [
    {
     "data": {
      "text/plain": [
       "<sqlite3.Cursor at 0x7f8b8ca7ce30>"
      ]
     },
     "execution_count": 262,
     "metadata": {},
     "output_type": "execute_result"
    }
   ],
   "source": [
    "cur.execute(cols)"
   ]
  },
  {
   "cell_type": "code",
   "execution_count": 263,
   "metadata": {},
   "outputs": [],
   "source": [
    "rows = cur.fetchall()"
   ]
  },
  {
   "cell_type": "code",
   "execution_count": 265,
   "metadata": {},
   "outputs": [],
   "source": [
    "# rows[0]"
   ]
  },
  {
   "cell_type": "code",
   "execution_count": 269,
   "metadata": {},
   "outputs": [
    {
     "data": {
      "text/plain": [
       "'CREATE TABLE jso88k (\\n\\t\"Respondent\" BIGINT, \\n\\t\"MainBranch\" TEXT, \\n\\t\"Hobbyist\" TEXT, \\n\\t\"OpenSourcer\" TEXT, \\n\\t\"OpenSource\" TEXT, \\n\\t\"Employment\" TEXT, \\n\\t\"Country\" TEXT, \\n\\t\"Student\" TEXT, \\n\\t\"EdLevel\" TEXT, \\n\\t\"UndergradMajor\" TEXT, \\n\\t\"EduOther\" TEXT, \\n\\t\"OrgSize\" TEXT, \\n\\t\"DevType\" TEXT, \\n\\t\"YearsCode\" TEXT, \\n\\t\"Age1stCode\" TEXT, \\n\\t\"YearsCodePro\" TEXT, \\n\\t\"CareerSat\" TEXT, \\n\\t\"JobSat\" TEXT, \\n\\t\"MgrIdiot\" TEXT, \\n\\t\"MgrMoney\" TEXT, \\n\\t\"MgrWant\" TEXT, \\n\\t\"JobSeek\" TEXT, \\n\\t\"LastHireDate\" TEXT, \\n\\t\"LastInt\" TEXT, \\n\\t\"FizzBuzz\" TEXT, \\n\\t\"JobFactors\" TEXT, \\n\\t\"ResumeUpdate\" TEXT, \\n\\t\"CurrencySymbol\" TEXT, \\n\\t\"CurrencyDesc\" TEXT, \\n\\t\"CompTotal\" FLOAT, \\n\\t\"CompFreq\" TEXT, \\n\\t\"ConvertedComp\" FLOAT, \\n\\t\"WorkWeekHrs\" FLOAT, \\n\\t\"WorkPlan\" TEXT, \\n\\t\"WorkChallenge\" TEXT, \\n\\t\"WorkRemote\" TEXT, \\n\\t\"WorkLoc\" TEXT, \\n\\t\"ImpSyn\" TEXT, \\n\\t\"CodeRev\" TEXT, \\n\\t\"CodeRevHrs\" FLOAT, \\n\\t\"UnitTests\" TEXT, \\n\\t\"PurchaseHow\" TEXT, \\n\\t\"PurchaseWhat\" TEXT, \\n\\t\"LanguageWorkedWith\" TEXT, \\n\\t\"LanguageDesireNextYear\" TEXT, \\n\\t\"DatabaseWorkedWith\" TEXT, \\n\\t\"DatabaseDesireNextYear\" TEXT, \\n\\t\"PlatformWorkedWith\" TEXT, \\n\\t\"PlatformDesireNextYear\" TEXT, \\n\\t\"WebFrameWorkedWith\" TEXT, \\n\\t\"WebFrameDesireNextYear\" TEXT, \\n\\t\"MiscTechWorkedWith\" TEXT, \\n\\t\"MiscTechDesireNextYear\" TEXT, \\n\\t\"DevEnviron\" TEXT, \\n\\t\"OpSys\" TEXT, \\n\\t\"Containers\" TEXT, \\n\\t\"BlockchainOrg\" TEXT, \\n\\t\"BlockchainIs\" TEXT, \\n\\t\"BetterLife\" TEXT, \\n\\t\"ITperson\" TEXT, \\n\\t\"OffOn\" TEXT, \\n\\t\"SocialMedia\" TEXT, \\n\\t\"Extraversion\" TEXT, \\n\\t\"ScreenName\" TEXT, \\n\\t\"SOVisit1st\" TEXT, \\n\\t\"SOVisitFreq\" TEXT, \\n\\t\"SOVisitTo\" TEXT, \\n\\t\"SOFindAnswer\" TEXT, \\n\\t\"SOTimeSaved\" TEXT, \\n\\t\"SOHowMuchTime\" TEXT, \\n\\t\"SOAccount\" TEXT, \\n\\t\"SOPartFreq\" TEXT, \\n\\t\"SOJobs\" TEXT, \\n\\t\"EntTeams\" TEXT, \\n\\t\"SOComm\" TEXT, \\n\\t\"WelcomeChange\" TEXT, \\n\\t\"SONewContent\" TEXT, \\n\\t\"Age\" FLOAT, \\n\\t\"Gender\" TEXT, \\n\\t\"Trans\" TEXT, \\n\\t\"Sexuality\" TEXT, \\n\\t\"Ethnicity\" TEXT, \\n\\t\"Dependents\" TEXT, \\n\\t\"SurveyLength\" TEXT, \\n\\t\"SurveyEase\" TEXT\\n)'"
      ]
     },
     "execution_count": 269,
     "metadata": {},
     "output_type": "execute_result"
    }
   ],
   "source": [
    "col_string = rows[0][1]\n",
    "col_string"
   ]
  },
  {
   "cell_type": "code",
   "execution_count": 272,
   "metadata": {},
   "outputs": [],
   "source": [
    "pattern = r'\"([A-Za-z0-9]*)\"'\n",
    "column_names = re.findall(pattern, col_string)"
   ]
  },
  {
   "cell_type": "code",
   "execution_count": 273,
   "metadata": {},
   "outputs": [
    {
     "data": {
      "text/plain": [
       "['Respondent',\n",
       " 'MainBranch',\n",
       " 'Hobbyist',\n",
       " 'OpenSourcer',\n",
       " 'OpenSource',\n",
       " 'Employment',\n",
       " 'Country',\n",
       " 'Student',\n",
       " 'EdLevel',\n",
       " 'UndergradMajor',\n",
       " 'EduOther',\n",
       " 'OrgSize',\n",
       " 'DevType',\n",
       " 'YearsCode',\n",
       " 'Age1stCode',\n",
       " 'YearsCodePro',\n",
       " 'CareerSat',\n",
       " 'JobSat',\n",
       " 'MgrIdiot',\n",
       " 'MgrMoney',\n",
       " 'MgrWant',\n",
       " 'JobSeek',\n",
       " 'LastHireDate',\n",
       " 'LastInt',\n",
       " 'FizzBuzz',\n",
       " 'JobFactors',\n",
       " 'ResumeUpdate',\n",
       " 'CurrencySymbol',\n",
       " 'CurrencyDesc',\n",
       " 'CompTotal',\n",
       " 'CompFreq',\n",
       " 'ConvertedComp',\n",
       " 'WorkWeekHrs',\n",
       " 'WorkPlan',\n",
       " 'WorkChallenge',\n",
       " 'WorkRemote',\n",
       " 'WorkLoc',\n",
       " 'ImpSyn',\n",
       " 'CodeRev',\n",
       " 'CodeRevHrs',\n",
       " 'UnitTests',\n",
       " 'PurchaseHow',\n",
       " 'PurchaseWhat',\n",
       " 'LanguageWorkedWith',\n",
       " 'LanguageDesireNextYear',\n",
       " 'DatabaseWorkedWith',\n",
       " 'DatabaseDesireNextYear',\n",
       " 'PlatformWorkedWith',\n",
       " 'PlatformDesireNextYear',\n",
       " 'WebFrameWorkedWith',\n",
       " 'WebFrameDesireNextYear',\n",
       " 'MiscTechWorkedWith',\n",
       " 'MiscTechDesireNextYear',\n",
       " 'DevEnviron',\n",
       " 'OpSys',\n",
       " 'Containers',\n",
       " 'BlockchainOrg',\n",
       " 'BlockchainIs',\n",
       " 'BetterLife',\n",
       " 'ITperson',\n",
       " 'OffOn',\n",
       " 'SocialMedia',\n",
       " 'Extraversion',\n",
       " 'ScreenName',\n",
       " 'SOVisit1st',\n",
       " 'SOVisitFreq',\n",
       " 'SOVisitTo',\n",
       " 'SOFindAnswer',\n",
       " 'SOTimeSaved',\n",
       " 'SOHowMuchTime',\n",
       " 'SOAccount',\n",
       " 'SOPartFreq',\n",
       " 'SOJobs',\n",
       " 'EntTeams',\n",
       " 'SOComm',\n",
       " 'WelcomeChange',\n",
       " 'SONewContent',\n",
       " 'Age',\n",
       " 'Gender',\n",
       " 'Trans',\n",
       " 'Sexuality',\n",
       " 'Ethnicity',\n",
       " 'Dependents',\n",
       " 'SurveyLength',\n",
       " 'SurveyEase']"
      ]
     },
     "execution_count": 273,
     "metadata": {},
     "output_type": "execute_result"
    }
   ],
   "source": [
    "column_names"
   ]
  },
  {
   "cell_type": "code",
   "execution_count": null,
   "metadata": {},
   "outputs": [],
   "source": []
  },
  {
   "cell_type": "code",
   "execution_count": null,
   "metadata": {},
   "outputs": [],
   "source": []
  },
  {
   "cell_type": "code",
   "execution_count": null,
   "metadata": {},
   "outputs": [],
   "source": []
  },
  {
   "cell_type": "code",
   "execution_count": null,
   "metadata": {},
   "outputs": [],
   "source": []
  },
  {
   "cell_type": "code",
   "execution_count": null,
   "metadata": {},
   "outputs": [],
   "source": [
    "cur.execute(query_string)\n",
    "rows = cur.fetchall()"
   ]
  },
  {
   "cell_type": "code",
   "execution_count": null,
   "metadata": {},
   "outputs": [],
   "source": [
    "country_data = []\n",
    "\n",
    "for row in rows:\n",
    "    tempDict = {}\n",
    "    tempDict[row[0]] = int(row[1])\n",
    "    country_data.append(tempDict)"
   ]
  },
  {
   "cell_type": "code",
   "execution_count": null,
   "metadata": {},
   "outputs": [],
   "source": []
  },
  {
   "cell_type": "code",
   "execution_count": null,
   "metadata": {},
   "outputs": [],
   "source": []
  },
  {
   "cell_type": "code",
   "execution_count": null,
   "metadata": {},
   "outputs": [],
   "source": []
  },
  {
   "cell_type": "code",
   "execution_count": null,
   "metadata": {},
   "outputs": [],
   "source": []
  },
  {
   "cell_type": "code",
   "execution_count": null,
   "metadata": {},
   "outputs": [],
   "source": []
  },
  {
   "cell_type": "code",
   "execution_count": null,
   "metadata": {},
   "outputs": [],
   "source": []
  },
  {
   "cell_type": "code",
   "execution_count": 241,
   "metadata": {},
   "outputs": [
    {
     "ename": "OperationalError",
     "evalue": "no such column: jso11k",
     "output_type": "error",
     "traceback": [
      "\u001b[0;31m---------------------------------------------------------------------------\u001b[0m",
      "\u001b[0;31mOperationalError\u001b[0m                          Traceback (most recent call last)",
      "\u001b[0;32m<ipython-input-241-823763c375da>\u001b[0m in \u001b[0;36m<module>\u001b[0;34m\u001b[0m\n\u001b[1;32m      4\u001b[0m WHERE tbl_name = `jso11k` AND type = `table`'''\n\u001b[1;32m      5\u001b[0m \u001b[0;34m\u001b[0m\u001b[0m\n\u001b[0;32m----> 6\u001b[0;31m \u001b[0mcur\u001b[0m\u001b[0;34m.\u001b[0m\u001b[0mexecute\u001b[0m\u001b[0;34m(\u001b[0m\u001b[0mcols\u001b[0m\u001b[0;34m)\u001b[0m\u001b[0;34m\u001b[0m\u001b[0;34m\u001b[0m\u001b[0m\n\u001b[0m\u001b[1;32m      7\u001b[0m \u001b[0mrows\u001b[0m \u001b[0;34m=\u001b[0m \u001b[0mcur\u001b[0m\u001b[0;34m.\u001b[0m\u001b[0mfetchall\u001b[0m\u001b[0;34m(\u001b[0m\u001b[0;34m)\u001b[0m\u001b[0;34m\u001b[0m\u001b[0;34m\u001b[0m\u001b[0m\n\u001b[1;32m      8\u001b[0m \u001b[0mcol_string\u001b[0m \u001b[0;34m=\u001b[0m \u001b[0mrows\u001b[0m\u001b[0;34m[\u001b[0m\u001b[0;36m0\u001b[0m\u001b[0;34m]\u001b[0m\u001b[0;34m[\u001b[0m\u001b[0;36m1\u001b[0m\u001b[0;34m]\u001b[0m\u001b[0;34m\u001b[0m\u001b[0;34m\u001b[0m\u001b[0m\n",
      "\u001b[0;31mOperationalError\u001b[0m: no such column: jso11k"
     ]
    }
   ],
   "source": [
    "conn = sqlite3.connect(\"dash_app/db/js_overload.sqlite\")\n",
    "cur = conn.cursor()\n",
    "cols = '''SELECT sql FROM sqlite_master\n",
    "WHERE tbl_name = `jso11k` AND type = `table`'''\n",
    "\n",
    "cur.execute(cols)\n",
    "rows = cur.fetchall()\n",
    "col_string = rows[0][1]\n",
    "pattern = r'`([A-Za-z0-9]*)`'\n",
    "column_names = re.findall(pattern, col_string)[:-1]"
   ]
  },
  {
   "cell_type": "code",
   "execution_count": null,
   "metadata": {},
   "outputs": [],
   "source": []
  },
  {
   "cell_type": "code",
   "execution_count": null,
   "metadata": {},
   "outputs": [],
   "source": []
  },
  {
   "cell_type": "code",
   "execution_count": null,
   "metadata": {},
   "outputs": [],
   "source": []
  },
  {
   "cell_type": "code",
   "execution_count": null,
   "metadata": {},
   "outputs": [],
   "source": []
  },
  {
   "cell_type": "code",
   "execution_count": 149,
   "metadata": {},
   "outputs": [],
   "source": [
    "query_string = '''\n",
    "        SELECT Country, count(country) FROM jso11k\n",
    "        GROUP BY Country\n",
    "        ORDER BY COUNT(Country) DESC;\n",
    "'''"
   ]
  },
  {
   "cell_type": "code",
   "execution_count": 150,
   "metadata": {},
   "outputs": [
    {
     "data": {
      "text/plain": [
       "'\\n        SELECT Country, count(country) FROM jso11k\\n        GROUP BY Country\\n        ORDER BY COUNT(Country) DESC;\\n'"
      ]
     },
     "execution_count": 150,
     "metadata": {},
     "output_type": "execute_result"
    }
   ],
   "source": [
    "query_string"
   ]
  },
  {
   "cell_type": "code",
   "execution_count": 151,
   "metadata": {},
   "outputs": [
    {
     "data": {
      "text/plain": [
       "<sqlite3.Cursor at 0x7f8bd7d0fdc0>"
      ]
     },
     "execution_count": 151,
     "metadata": {},
     "output_type": "execute_result"
    }
   ],
   "source": [
    "cur.execute(query_string)"
   ]
  },
  {
   "cell_type": "code",
   "execution_count": 152,
   "metadata": {},
   "outputs": [],
   "source": [
    "rows = cur.fetchall()"
   ]
  },
  {
   "cell_type": "code",
   "execution_count": 153,
   "metadata": {},
   "outputs": [
    {
     "name": "stdout",
     "output_type": "stream",
     "text": [
      "United States 2597\n",
      "India 1077\n",
      "United Kingdom 721\n",
      "Germany 719\n",
      "Canada 428\n",
      "France 305\n",
      "Poland 259\n",
      "Netherlands 256\n",
      "Australia 250\n",
      "Brazil 240\n"
     ]
    }
   ],
   "source": [
    "for row in rows[:10]:\n",
    "    print (row[0], row[1])"
   ]
  },
  {
   "cell_type": "code",
   "execution_count": 154,
   "metadata": {},
   "outputs": [],
   "source": [
    "country_data = []"
   ]
  },
  {
   "cell_type": "code",
   "execution_count": 155,
   "metadata": {},
   "outputs": [],
   "source": [
    "for row in rows:\n",
    "    tempDict = {}\n",
    "    tempDict[row[0]] = int(row[1])\n",
    "    country_data.append(tempDict)\n"
   ]
  },
  {
   "cell_type": "code",
   "execution_count": 156,
   "metadata": {},
   "outputs": [
    {
     "data": {
      "text/plain": [
       "[{'United States': 2597},\n",
       " {'India': 1077},\n",
       " {'United Kingdom': 721},\n",
       " {'Germany': 719},\n",
       " {'Canada': 428},\n",
       " {'France': 305},\n",
       " {'Poland': 259},\n",
       " {'Netherlands': 256},\n",
       " {'Australia': 250},\n",
       " {'Brazil': 240},\n",
       " {'Russian Federation': 214},\n",
       " {'Spain': 184},\n",
       " {'Italy': 181},\n",
       " {'Switzerland': 148},\n",
       " {'Sweden': 144},\n",
       " {'Israel': 119},\n",
       " {'Ukraine': 118},\n",
       " {'Pakistan': 102},\n",
       " {'Austria': 100},\n",
       " {'Belgium': 96},\n",
       " {'Iran': 95},\n",
       " {'Mexico': 94},\n",
       " {'Romania': 94},\n",
       " {'Turkey': 92},\n",
       " {'Bangladesh': 87},\n",
       " {'Czech Republic': 82},\n",
       " {'Bulgaria': 81},\n",
       " {'Denmark': 81},\n",
       " {'China': 79},\n",
       " {'South Africa': 77},\n",
       " {'Norway': 67},\n",
       " {'Nigeria': 66},\n",
       " {'Portugal': 66},\n",
       " {'Greece': 65},\n",
       " {'Argentina': 64},\n",
       " {'Finland': 59},\n",
       " {'Ireland': 59},\n",
       " {'New Zealand': 59},\n",
       " {'Serbia': 56},\n",
       " {'Philippines': 54},\n",
       " {'Hungary': 53},\n",
       " {'Indonesia': 53},\n",
       " {'Japan': 50},\n",
       " {'Slovenia': 50},\n",
       " {'Sri Lanka': 50},\n",
       " {'Chile': 40},\n",
       " {'Colombia': 39},\n",
       " {'Lithuania': 38},\n",
       " {'Singapore': 37},\n",
       " {'Egypt': 36},\n",
       " {'Croatia': 32},\n",
       " {'Viet Nam': 32},\n",
       " {'Malaysia': 30},\n",
       " {'Slovakia': 29},\n",
       " {'United Arab Emirates': 29},\n",
       " {'Thailand': 28},\n",
       " {'Hong Kong (S.A.R.)': 26},\n",
       " {'Kenya': 26},\n",
       " {'Estonia': 24},\n",
       " {'Tunisia': 24},\n",
       " {'Taiwan': 23},\n",
       " {'Belarus': 22},\n",
       " {'Morocco': 21},\n",
       " {'Algeria': 18},\n",
       " {'Nepal': 18},\n",
       " {'South Korea': 17},\n",
       " {'Bosnia and Herzegovina': 16},\n",
       " {'Ecuador': 16},\n",
       " {'Lebanon': 15},\n",
       " {'Uruguay': 15},\n",
       " {'Armenia': 14},\n",
       " {'Other Country (Not Listed Above)': 14},\n",
       " {'Peru': 14},\n",
       " {'Dominican Republic': 13},\n",
       " {'Latvia': 13},\n",
       " {'Saudi Arabia': 13},\n",
       " {'Jordan': 12},\n",
       " {'Albania': 11},\n",
       " {'Cyprus': 11},\n",
       " {'Venezuela, Bolivarian Republic of...': 11},\n",
       " {'Kazakhstan': 10},\n",
       " {'Costa Rica': 9},\n",
       " {'Cameroon': 8},\n",
       " {'Georgia': 8},\n",
       " {'Uganda': 8},\n",
       " {'El Salvador': 7},\n",
       " {'Ghana': 7},\n",
       " {'Zimbabwe': 7},\n",
       " {'Afghanistan': 6},\n",
       " {'Azerbaijan': 6},\n",
       " {'Bolivia': 6},\n",
       " {'Cuba': 6},\n",
       " {'Jamaica': 6},\n",
       " {'Luxembourg': 6},\n",
       " {'Uzbekistan': 6},\n",
       " {'Guatemala': 5},\n",
       " {'Paraguay': 5},\n",
       " {'Republic of Korea': 5},\n",
       " {'The former Yugoslav Republic of Macedonia': 5},\n",
       " {\"Côte d'Ivoire\": 4},\n",
       " {'Ethiopia': 4},\n",
       " {'Honduras': 4},\n",
       " {'Iraq': 4},\n",
       " {'Malta': 4},\n",
       " {'Panama': 4},\n",
       " {'Republic of Moldova': 4},\n",
       " {'Sudan': 4},\n",
       " {'Syrian Arab Republic': 4},\n",
       " {'Cambodia': 3},\n",
       " {'Iceland': 3},\n",
       " {'Madagascar': 3},\n",
       " {'Rwanda': 3},\n",
       " {'United Republic of Tanzania': 3},\n",
       " {'Antigua and Barbuda': 2},\n",
       " {'Bahrain': 2},\n",
       " {'Kyrgyzstan': 2},\n",
       " {'Mauritius': 2},\n",
       " {'Myanmar': 2},\n",
       " {'Somalia': 2},\n",
       " {'Andorra': 1},\n",
       " {'Bahamas': 1},\n",
       " {'Botswana': 1},\n",
       " {'Cape Verde': 1},\n",
       " {'Democratic Republic of the Congo': 1},\n",
       " {'Djibouti': 1},\n",
       " {'Gabon': 1},\n",
       " {'Haiti': 1},\n",
       " {'Kuwait': 1},\n",
       " {\"Lao People's Democratic Republic\": 1},\n",
       " {'Lesotho': 1},\n",
       " {'Maldives': 1},\n",
       " {'Mongolia': 1},\n",
       " {'Mozambique': 1},\n",
       " {'Nicaragua': 1},\n",
       " {'Oman': 1},\n",
       " {'Sao Tome and Principe': 1},\n",
       " {'Swaziland': 1},\n",
       " {'Tajikistan': 1},\n",
       " {'Togo': 1},\n",
       " {'Trinidad and Tobago': 1},\n",
       " {'Yemen': 1},\n",
       " {'Zambia': 1},\n",
       " {None: 0}]"
      ]
     },
     "execution_count": 156,
     "metadata": {},
     "output_type": "execute_result"
    }
   ],
   "source": [
    "country_data"
   ]
  },
  {
   "cell_type": "code",
   "execution_count": null,
   "metadata": {},
   "outputs": [],
   "source": [
    "# database_path = \"Resources/la_crime_10k.sqlite\"\n",
    "# engine = create_engine(f\"sqlite:///{database_path}\")\n",
    "# engine.table_names()\n",
    "# _10k_df.to_sql(name='LaCrime', con=engine, if_exists='append', index=False)\n",
    "\n",
    "# # Test Query the LaCrime table\n",
    "# pd.read_sql_query('select * from LaCrime', con=engine).tail(2)"
   ]
  },
  {
   "cell_type": "code",
   "execution_count": null,
   "metadata": {},
   "outputs": [],
   "source": [
    "import os\n",
    "\n",
    "import pandas as pd\n",
    "import numpy as np\n",
    "\n",
    "import sqlalchemy\n",
    "from sqlalchemy.ext.automap import automap_base\n",
    "from sqlalchemy.orm import Session\n",
    "from sqlalchemy import create_engine, func\n",
    "\n",
    "from flask import Flask, jsonify, render_template\n",
    "from flask_sqlalchemy import SQLAlchemy\n",
    "\n",
    "app = Flask(__name__)\n",
    "\n",
    "\n",
    "#################################################\n",
    "# Database Setup\n",
    "#################################################\n",
    "\n",
    "app.config[\"SQLALCHEMY_DATABASE_URI\"] = \"sqlite:///db/bellybutton.sqlite\"\n",
    "db = SQLAlchemy(app)\n",
    "\n",
    "# reflect an existing database into a new model\n",
    "Base = automap_base()\n",
    "# reflect the tables\n",
    "Base.prepare(db.engine, reflect=True)\n",
    "\n",
    "# Save references to each table\n",
    "Samples_Metadata = Base.classes.sample_metadata\n",
    "Samples = Base.classes.samples\n",
    "\n",
    "\n",
    "@app.route(\"/\")\n",
    "def index():\n",
    "    \"\"\"Return the homepage.\"\"\"\n",
    "    return render_template(\"index.html\")\n",
    "\n",
    "\n",
    "@app.route(\"/names\")\n",
    "def names():\n",
    "    \"\"\"Return a list of sample names.\"\"\"\n",
    "\n",
    "    # Use Pandas to perform the sql query\n",
    "    stmt = db.session.query(Samples).statement\n",
    "    df = pd.read_sql_query(stmt, db.session.bind)\n",
    "\n",
    "    # Return a list of the column names (sample names)\n",
    "    return jsonify(list(df.columns)[2:])\n",
    "\n",
    "\n",
    "# =================== test route ======================\n",
    "@app.route(\"/maxWash\")\n",
    "def washCountMax():\n",
    "    \"\"\"Return the max wash frequency in the datase\"\"\"\n",
    "\n",
    "    results = db.session.query(func.max(Samples_Metadata.WFREQ)).first()[0]\n",
    "    print(f\"max wash: {results}\")\n",
    "    print(f\"max wash type : {type(results)}\")\n",
    "\n",
    "    return jsonify(results)\n",
    "# =================== test route ======================\n",
    "\n",
    "\n",
    "@app.route(\"/metadata/<sample>\")\n",
    "def sample_metadata(sample):\n",
    "    \"\"\"Return the MetaData for a given sample.\"\"\"\n",
    "\n",
    "    sel = [\n",
    "        Samples_Metadata.sample,\n",
    "        Samples_Metadata.ETHNICITY,\n",
    "        Samples_Metadata.GENDER,\n",
    "        Samples_Metadata.AGE,\n",
    "        Samples_Metadata.LOCATION,\n",
    "        Samples_Metadata.BBTYPE,\n",
    "        Samples_Metadata.WFREQ,\n",
    "    ]\n",
    "\n",
    "    results = db.session.query(\n",
    "        *sel).filter(Samples_Metadata.sample == sample).all()\n",
    "\n",
    "    # Create a dictionary entry for each row of metadata information\n",
    "    sample_metadata = {}\n",
    "    for result in results:\n",
    "        sample_metadata[\"sample\"] = result[0]\n",
    "        sample_metadata[\"ETHNICITY\"] = result[1]\n",
    "        sample_metadata[\"GENDER\"] = result[2]\n",
    "        sample_metadata[\"AGE\"] = result[3]\n",
    "        sample_metadata[\"LOCATION\"] = result[4]\n",
    "        sample_metadata[\"BBTYPE\"] = result[5]\n",
    "        sample_metadata[\"WFREQ\"] = result[6]\n",
    "\n",
    "    print(sample_metadata)\n",
    "    return jsonify(sample_metadata)\n",
    "\n",
    "\n",
    "@app.route(\"/samples/<sample>\")\n",
    "def samples(sample):\n",
    "    \"\"\"Return `otu_ids`, `otu_labels`,and `sample_values`.\"\"\"\n",
    "    stmt = db.session.query(Samples).statement\n",
    "    df = pd.read_sql_query(stmt, db.session.bind)\n",
    "\n",
    "    # Filter the data based on the sample number and\n",
    "    # only keep rows with values above 1\n",
    "    sample_data = df.loc[df[sample] > 1, [\"otu_id\", \"otu_label\", sample]]\n",
    "\n",
    "    # Sort by sample\n",
    "    sample_data.sort_values(by=sample, ascending=False, inplace=True)\n",
    "\n",
    "    # Format the data to send as json\n",
    "    data = {\n",
    "        \"otu_ids\": sample_data.otu_id.values.tolist(),\n",
    "        \"sample_values\": sample_data[sample].values.tolist(),\n",
    "        \"otu_labels\": sample_data.otu_label.tolist(),\n",
    "    }\n",
    "    return jsonify(data)\n",
    "\n",
    "\n",
    "if __name__ == \"__main__\":\n",
    "    app.run()\n",
    "\n",
    "\n"
   ]
  }
 ],
 "metadata": {
  "kernelspec": {
   "display_name": "Python 3",
   "language": "python",
   "name": "python3"
  },
  "language_info": {
   "codemirror_mode": {
    "name": "ipython",
    "version": 3
   },
   "file_extension": ".py",
   "mimetype": "text/x-python",
   "name": "python",
   "nbconvert_exporter": "python",
   "pygments_lexer": "ipython3",
   "version": "3.7.3"
  }
 },
 "nbformat": 4,
 "nbformat_minor": 2
}
