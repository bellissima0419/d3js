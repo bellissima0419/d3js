{
 "cells": [
  {
   "cell_type": "code",
   "execution_count": 221,
   "metadata": {},
   "outputs": [],
   "source": [
    "# FLASK_APP=dash_app/app.py flask run\n",
    "import pandas as pd\n",
    "import numpy as np\n",
    "from flask import Flask, jsonify, render_template\n",
    "import sqlite3\n",
    "import re"
   ]
  },
  {
   "cell_type": "code",
   "execution_count": 222,
   "metadata": {},
   "outputs": [],
   "source": [
    "conn = sqlite3.connect(\"dash_app/db/js_overload.sqlite\")\n",
    "cur = conn.cursor()"
   ]
  },
  {
   "cell_type": "code",
   "execution_count": 223,
   "metadata": {},
   "outputs": [],
   "source": [
    "genders_query = \"SELECT Gender, COUNT(Gender) FROM jso11k GROUP BY Gender\""
   ]
  },
  {
   "cell_type": "markdown",
   "metadata": {},
   "source": [
    "## Respondent Count by Gender"
   ]
  },
  {
   "cell_type": "code",
   "execution_count": 224,
   "metadata": {},
   "outputs": [],
   "source": [
    "cur.execute(genders_query)\n",
    "rows = cur.fetchall()"
   ]
  },
  {
   "cell_type": "code",
   "execution_count": 225,
   "metadata": {},
   "outputs": [
    {
     "data": {
      "text/plain": [
       "[(None, 0),\n",
       " ('Man', 9588),\n",
       " ('Man;Non-binary, genderqueer, or gender non-conforming', 23),\n",
       " ('Non-binary, genderqueer, or gender non-conforming', 70),\n",
       " ('Woman', 813),\n",
       " ('Woman;Man', 15),\n",
       " ('Woman;Man;Non-binary, genderqueer, or gender non-conforming', 8),\n",
       " ('Woman;Non-binary, genderqueer, or gender non-conforming', 20)]"
      ]
     },
     "execution_count": 225,
     "metadata": {},
     "output_type": "execute_result"
    }
   ],
   "source": [
    "rows"
   ]
  },
  {
   "cell_type": "code",
   "execution_count": 226,
   "metadata": {},
   "outputs": [],
   "source": [
    "gender_data = []\n",
    "for row in rows:\n",
    "    temp_dict = {}\n",
    "    temp_dict[\"gender\"] = row[0]\n",
    "    temp_dict[\"gender_count\"] = row[1]\n",
    "    gender_data.append(temp_dict)\n",
    "\n",
    "# return jsonify(gender_data)"
   ]
  },
  {
   "cell_type": "code",
   "execution_count": 227,
   "metadata": {},
   "outputs": [
    {
     "data": {
      "text/plain": [
       "[{'gender': None, 'gender_count': 0},\n",
       " {'gender': 'Man', 'gender_count': 9588},\n",
       " {'gender': 'Man;Non-binary, genderqueer, or gender non-conforming',\n",
       "  'gender_count': 23},\n",
       " {'gender': 'Non-binary, genderqueer, or gender non-conforming',\n",
       "  'gender_count': 70},\n",
       " {'gender': 'Woman', 'gender_count': 813},\n",
       " {'gender': 'Woman;Man', 'gender_count': 15},\n",
       " {'gender': 'Woman;Man;Non-binary, genderqueer, or gender non-conforming',\n",
       "  'gender_count': 8},\n",
       " {'gender': 'Woman;Non-binary, genderqueer, or gender non-conforming',\n",
       "  'gender_count': 20}]"
      ]
     },
     "execution_count": 227,
     "metadata": {},
     "output_type": "execute_result"
    }
   ],
   "source": [
    "gender_data"
   ]
  },
  {
   "cell_type": "markdown",
   "metadata": {},
   "source": [
    "## Languages frequency in Men"
   ]
  },
  {
   "cell_type": "code",
   "execution_count": 269,
   "metadata": {},
   "outputs": [],
   "source": [
    "conn = sqlite3.connect(\"dash_app/db/js_overload.sqlite\")\n",
    "cur = conn.cursor()\n",
    "\n",
    "queries = {\n",
    "        \"man\": '''\n",
    "            SELECT LanguageWorkedWith, COUNT(LanguageWorkedWith)\n",
    "            FROM jso11k WHERE Gender = 'Man' and LanguageWorkedWith > 0\n",
    "            GROUP BY LanguageWorkedWith ORDER BY COUNT(LanguageWorkedWith)\n",
    "        ''',\n",
    "        \"woman\": '''\n",
    "            SELECT LanguageWorkedWith, COUNT(LanguageWorkedWith)\n",
    "            FROM jso11k\n",
    "            WHERE Gender = 'Woman' and LanguageWorkedWith > 0\n",
    "            GROUP BY LanguageWorkedWith ORDER BY COUNT(LanguageWorkedWith) DESC\n",
    "        ''',\n",
    "        \"other\": '''\n",
    "            SELECT LanguageWorkedWith, COUNT(LanguageWorkedWith)\n",
    "            FROM jso11k\n",
    "            WHERE Gender NOT IN ('Man', 'Woman') and LanguageWorkedWith > 0\n",
    "            GROUP BY LanguageWorkedWith ORDER BY COUNT(LanguageWorkedWith) DESC\n",
    "        '''\n",
    "    }\n",
    "\n",
    "languages_by_gender = []\n",
    "\n",
    "for key, value in queries.items():\n",
    "\n",
    "    cur.execute(value)\n",
    "    rows = cur.fetchall()\n",
    "\n",
    "    language_freq = {}\n",
    "\n",
    "    for row in rows:\n",
    "        languages = row[0].split(';')   \n",
    "        for item in languages:\n",
    "            if item in language_freq:\n",
    "                language_freq[item] += int(row[1])\n",
    "            else:\n",
    "                language_freq[item] = int(row[1])\n",
    "\n",
    "    languages_by_gender.append({key: language_freq})"
   ]
  },
  {
   "cell_type": "code",
   "execution_count": 270,
   "metadata": {},
   "outputs": [
    {
     "data": {
      "text/plain": [
       "[{'man': {'Assembly': 648,\n",
       "   'Bash/Shell/PowerShell': 3528,\n",
       "   'C#': 3061,\n",
       "   'Go': 816,\n",
       "   'HTML/CSS': 6014,\n",
       "   'JavaScript': 6419,\n",
       "   'PHP': 2489,\n",
       "   'Python': 3971,\n",
       "   'Ruby': 749,\n",
       "   'SQL': 5326,\n",
       "   'TypeScript': 2060,\n",
       "   'VBA': 533,\n",
       "   'Swift': 586,\n",
       "   'Java': 3921,\n",
       "   'R': 564,\n",
       "   'Scala': 383,\n",
       "   'Objective-C': 430,\n",
       "   'Rust': 303,\n",
       "   'WebAssembly': 113,\n",
       "   'Other(s):': 865,\n",
       "   'C++': 2317,\n",
       "   'Clojure': 139,\n",
       "   'Dart': 168,\n",
       "   'Elixir': 139,\n",
       "   'Erlang': 86,\n",
       "   'F#': 123,\n",
       "   'Kotlin': 591,\n",
       "   'C': 1995}},\n",
       " {'woman': {'HTML/CSS': 530,\n",
       "   'JavaScript': 517,\n",
       "   'Python': 313,\n",
       "   'C#': 180,\n",
       "   'SQL': 386,\n",
       "   'Java': 284,\n",
       "   'PHP': 182,\n",
       "   'TypeScript': 130,\n",
       "   'Bash/Shell/PowerShell': 225,\n",
       "   'R': 75,\n",
       "   'Go': 38,\n",
       "   'Ruby': 85,\n",
       "   'C': 121,\n",
       "   'C++': 144,\n",
       "   'Kotlin': 30,\n",
       "   'Assembly': 55,\n",
       "   'Objective-C': 25,\n",
       "   'Swift': 44,\n",
       "   'Other(s):': 58,\n",
       "   'WebAssembly': 8,\n",
       "   'Rust': 13,\n",
       "   'VBA': 38,\n",
       "   'Clojure': 3,\n",
       "   'Dart': 6,\n",
       "   'Erlang': 3,\n",
       "   'Elixir': 10,\n",
       "   'Scala': 26,\n",
       "   'F#': 4}},\n",
       " {'other': {'Bash/Shell/PowerShell': 49,\n",
       "   'HTML/CSS': 96,\n",
       "   'JavaScript': 94,\n",
       "   'PHP': 41,\n",
       "   'SQL': 71,\n",
       "   'Assembly': 15,\n",
       "   'Java': 61,\n",
       "   'Python': 61,\n",
       "   'C#': 34,\n",
       "   'VBA': 14,\n",
       "   'C': 29,\n",
       "   'C++': 30,\n",
       "   'Go': 10,\n",
       "   'Ruby': 17,\n",
       "   'TypeScript': 18,\n",
       "   'Other(s):': 14,\n",
       "   'R': 7,\n",
       "   'WebAssembly': 3,\n",
       "   'Swift': 8,\n",
       "   'Clojure': 4,\n",
       "   'Elixir': 1,\n",
       "   'F#': 1,\n",
       "   'Objective-C': 7,\n",
       "   'Scala': 4,\n",
       "   'Rust': 4,\n",
       "   'Dart': 3,\n",
       "   'Kotlin': 2}}]"
      ]
     },
     "execution_count": 270,
     "metadata": {},
     "output_type": "execute_result"
    }
   ],
   "source": [
    "languages_by_gender"
   ]
  },
  {
   "cell_type": "code",
   "execution_count": null,
   "metadata": {},
   "outputs": [],
   "source": []
  },
  {
   "cell_type": "code",
   "execution_count": null,
   "metadata": {},
   "outputs": [],
   "source": []
  },
  {
   "cell_type": "code",
   "execution_count": null,
   "metadata": {},
   "outputs": [],
   "source": []
  },
  {
   "cell_type": "code",
   "execution_count": null,
   "metadata": {},
   "outputs": [],
   "source": []
  },
  {
   "cell_type": "code",
   "execution_count": null,
   "metadata": {},
   "outputs": [],
   "source": []
  },
  {
   "cell_type": "code",
   "execution_count": null,
   "metadata": {},
   "outputs": [],
   "source": [
    "def CountFrequency(my_list): \n",
    "  \n",
    "    # Creating an empty dictionary  \n",
    "    freq = {} \n",
    "    for item in my_list: \n",
    "        if (item in freq): \n",
    "            freq[item] += 1\n",
    "        else: \n",
    "            freq[item] = 1\n",
    "  \n",
    "    for key, value in freq.items(): \n",
    "        print (\"% d : % d\"%(key, value)) \n",
    "  \n",
    "# Driver function \n",
    "if __name__ == \"__main__\":  \n",
    "    my_list =[1, 1, 1, 5, 5, 3, 1, 3, 3, 1, 4, 4, 4, 2, 2, 2, 2] "
   ]
  },
  {
   "cell_type": "code",
   "execution_count": null,
   "metadata": {},
   "outputs": [],
   "source": []
  },
  {
   "cell_type": "code",
   "execution_count": null,
   "metadata": {},
   "outputs": [],
   "source": []
  },
  {
   "cell_type": "code",
   "execution_count": null,
   "metadata": {},
   "outputs": [],
   "source": []
  },
  {
   "cell_type": "code",
   "execution_count": null,
   "metadata": {},
   "outputs": [],
   "source": []
  },
  {
   "cell_type": "code",
   "execution_count": null,
   "metadata": {},
   "outputs": [],
   "source": [
    "app = Flask(__name__)\n",
    "\n",
    "@app.route(\"/\")\n",
    "def index():\n",
    "    \"\"\"Return the homepage.\"\"\"\n",
    "    return render_template(\"index.html\")\n",
    "\n",
    "@app.route(\"/columns\")\n",
    "def names():\n",
    "    \"\"\"Return Column names from  a random sample  n = 11000 rows from the original dataset.\"\"\"\n",
    "\n",
    "    conn = sqlite3.connect(\"dash_app/db/js_overload.sqlite\")\n",
    "    cur = conn.cursor()\n",
    "    cur.execute(\"PRAGMA table_info(jso11k)\")\n",
    "    rows = cur.fetchall()\n",
    "    column_names = [i[1] for i in rows]\n",
    "    return jsonify(column_names)\n",
    "\n",
    "    # COUNTRIES API\n",
    "@app.route(\"/countries\")\n",
    "def countries():\n",
    "    \"\"\"\n",
    "     Return a list of number of survey respondents by country\n",
    "    \"\"\"\n",
    "    conn = sqlite3.connect(\"dash_app/db/js_overload.sqlite\")\n",
    "    cur = conn.cursor()\n",
    "\n",
    "    query_string = '''\n",
    "        SELECT Country, count(country) FROM jso11k\n",
    "        GROUP BY Country\n",
    "        ORDER BY COUNT(Country) DESC\n",
    "    '''\n",
    "\n",
    "    cur.execute(query_string)\n",
    "    rows = cur.fetchall()\n",
    "\n",
    "    country_data = []\n",
    "\n",
    "    for row in rows:\n",
    "        tempDict = {}\n",
    "        tempDict[\"country\"] = row[0]\n",
    "        tempDict[\"respondentCount\"] = int(row[1])\n",
    "        # tempDict[row[0]] = int(row[1])\n",
    "        country_data.append(tempDict)\n",
    "\n",
    "    return jsonify(country_data)\n",
    "\n",
    "####################################################\n",
    "####################################################\n",
    "\n",
    "@app.route(\"/genders\")\n",
    "def genders():\n",
    "    \"\"\"\n",
    "     Return a list of respondents count and percentages out of those who answered the Gender question\n",
    "    \"\"\"\n",
    "    conn = sqlite3.connect(\"dash_app/db/js_overload.sqlite\")\n",
    "    cur = conn.cursor()\n",
    "\n",
    "    genders_query = \"SELECT Gender, COUNT(Gender) FROM jso11k GROUP BY Gender\"\n",
    "\n",
    "    cur.execute(genders_query)\n",
    "    rows = cur.fetchall()\n",
    "\n",
    "    gender_data = []\n",
    "    for row in rows:\n",
    "        temp_dict = {}\n",
    "        temp_dict[\"gender\"] = row[0]\n",
    "        temp_dict[\"gender_count\"] = row[1]\n",
    "        gender_data.append(temp_dict)\n",
    "\n",
    "    return jsonify(gender_data)\n",
    "####################################################\n",
    "####################################################\n",
    "\n",
    "    # MAP CHART ROUTE\n",
    "    # @TODO route for the map chart\n",
    "# THE CSS STYLE IS JUST A DEMO\n",
    "@app.route(\"/mapChart\")\n",
    "def mapChart():\n",
    "    \"\"\"Return the mapChart page.\"\"\"\n",
    "    return render_template(\"mapChart.html\")\n",
    "###################################################\n",
    "####################################################\n",
    "    # LINE CHART ROUTE\n",
    "    # @TODO route for the LINE chart\n",
    "# THE CSS STYLE IS JUST A DEMO\n",
    "@app.route(\"/lineChart\")\n",
    "def lineChart():\n",
    "    \"\"\"Return the lineChart page.\"\"\"\n",
    "    return render_template(\"lineChart.html\")\n",
    "\n",
    "####################################################\n",
    "####################################################\n",
    "    # LINE CHART ROUTE\n",
    "    # @TODO route for the donutChart chart\n",
    "# THE CSS STYLE IS JUST A DEMO\n",
    "@app.route(\"/donutChart\")\n",
    "def donutChart():\n",
    "    \"\"\"Return the lineChart page.\"\"\"\n",
    "    return render_template(\"donutChart.html\")\n",
    "    \n",
    "####################################################\n",
    "####################################################\n",
    "\n",
    "    # BAR CHART ROUTE\n",
    "    # @TODO route for the  BAR chart\n",
    "# THE CSS STYLE IS JUST A DEMO\n",
    "@app.route(\"/barChart\")\n",
    "def barChart():\n",
    "    \"\"\"Return the barChart page.\"\"\"\n",
    "    return render_template(\"barChart.html\")####################################################\n",
    "\n",
    "if __name__ == \"__main__\":\n",
    "    app.run()\n"
   ]
  }
 ],
 "metadata": {
  "kernelspec": {
   "display_name": "Python 3",
   "language": "python",
   "name": "python3"
  },
  "language_info": {
   "codemirror_mode": {
    "name": "ipython",
    "version": 3
   },
   "file_extension": ".py",
   "mimetype": "text/x-python",
   "name": "python",
   "nbconvert_exporter": "python",
   "pygments_lexer": "ipython3",
   "version": "3.7.3"
  }
 },
 "nbformat": 4,
 "nbformat_minor": 2
}
