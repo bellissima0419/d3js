{
 "cells": [
  {
   "cell_type": "code",
   "execution_count": 1,
   "metadata": {},
   "outputs": [],
   "source": [
    "# FLASK_APP=dash_app/app.py flask run\n",
    "import pandas as pd\n",
    "import numpy as np\n",
    "from flask import Flask, jsonify, render_template\n",
    "import sqlite3\n",
    "import re"
   ]
  },
  {
   "cell_type": "code",
   "execution_count": 2,
   "metadata": {},
   "outputs": [
    {
     "data": {
      "text/plain": [
       "'/Users/x22/Desktop/MyGTdata/MyHW/d3js'"
      ]
     },
     "execution_count": 2,
     "metadata": {},
     "output_type": "execute_result"
    }
   ],
   "source": [
    "pwd"
   ]
  },
  {
   "cell_type": "markdown",
   "metadata": {},
   "source": [
    "* SQL DATA"
   ]
  },
  {
   "cell_type": "code",
   "execution_count": 315,
   "metadata": {},
   "outputs": [
    {
     "data": {
      "text/plain": [
       "('AD', 42.546245, 1.6015540000000001, 'Andorra')"
      ]
     },
     "execution_count": 315,
     "metadata": {},
     "output_type": "execute_result"
    }
   ],
   "source": [
    "conn = sqlite3.connect(\"dash_app/db/js_overload.sqlite\")\n",
    "cur = conn.cursor()\n",
    "\n",
    "coordinates_query = '''\n",
    "    SELECT * from country_coordinates\n",
    "'''\n",
    "cur.execute(coordinates_query)\n",
    "coordinates_rows = cur.fetchall()\n",
    "coordinates_rows[0]"
   ]
  },
  {
   "cell_type": "code",
   "execution_count": 316,
   "metadata": {},
   "outputs": [
    {
     "data": {
      "text/plain": [
       "{'code': 'AD',\n",
       " 'location': [42.546245, 1.6015540000000001],\n",
       " 'latitude': 42.546245,\n",
       " 'longitude': 1.6015540000000001,\n",
       " 'name': 'Andorra'}"
      ]
     },
     "execution_count": 316,
     "metadata": {},
     "output_type": "execute_result"
    }
   ],
   "source": [
    "coordinates = []\n",
    "\n",
    "for row in coordinates_rows:\n",
    "    tempDict = {}\n",
    "    tempDict[\"code\"] = row[0]\n",
    "    tempDict[\"location\"] = [row[1], row[2]]\n",
    "    tempDict[\"latitude\"] = row[1]\n",
    "    tempDict[\"longitude\"] = row[2]\n",
    "    tempDict[\"name\"] = row[3]\n",
    "    coordinates.append(tempDict)\n",
    "coordinates[0]"
   ]
  },
  {
   "cell_type": "code",
   "execution_count": 317,
   "metadata": {},
   "outputs": [
    {
     "data": {
      "text/plain": [
       "('United States', 2597)"
      ]
     },
     "execution_count": 317,
     "metadata": {},
     "output_type": "execute_result"
    }
   ],
   "source": [
    "country_query = '''\n",
    "    SELECT Country, count(country) FROM jso11k\n",
    "    GROUP BY Country\n",
    "    ORDER BY COUNT(Country) DESC\n",
    "'''\n",
    "\n",
    "cur.execute(country_query)\n",
    "country_rows = cur.fetchall()\n",
    "country_rows[0]\n"
   ]
  },
  {
   "cell_type": "code",
   "execution_count": null,
   "metadata": {},
   "outputs": [],
   "source": []
  },
  {
   "cell_type": "code",
   "execution_count": 318,
   "metadata": {},
   "outputs": [
    {
     "data": {
      "text/plain": [
       "[{'country': 'United States', 'respondentCount': 2597},\n",
       " {'country': 'India', 'respondentCount': 1077}]"
      ]
     },
     "execution_count": 318,
     "metadata": {},
     "output_type": "execute_result"
    }
   ],
   "source": [
    "countries = []\n",
    "for row in country_rows:\n",
    "    tempDict = {}\n",
    "    tempDict[\"country\"] = (row[0])\n",
    "    tempDict[\"respondentCount\"] = int(row[1])\n",
    "    # tempDict[row[0]] = int(row[1])\n",
    "    countries.append(tempDict)\n",
    "countries[:2]"
   ]
  },
  {
   "cell_type": "code",
   "execution_count": 319,
   "metadata": {},
   "outputs": [],
   "source": [
    "for i in range(len(countries)):\n",
    "    if countries[i]['country'] == 'Russian Federation':\n",
    "        countries[i]['country'] = 'Russia'\n",
    "    if countries[i]['country'] == 'Czech Republic':\n",
    "        countries[i]['country'] = 'Czech Republic'\n",
    "    if countries[i]['country'] == 'Viet Nam':\n",
    "        countries[i]['country'] = 'Vietnam'\n",
    "    if countries[i]['country'] == 'Venezuela, Bolivarian Republic of...':\n",
    "        countries[i]['country'] = 'Venezuela'\n",
    "    if countries[i]['country'] == 'Republic of Korea':\n",
    "        countries[i]['country'] = 'North Korea'\n",
    "    if countries[i]['country'] == 'Syrian Arab Republic':\n",
    "        countries[i]['country'] = 'Syria'\n",
    "    if countries[i]['country'] == \"Lao People's Democratic Republic\":\n",
    "        countries[i]['country'] = 'Laos'\n",
    "    if countries[i]['country'] == 'Sao Tome and Principe':\n",
    "        countries[i]['country'] = 'São Tomé and Príncipe'\n",
    "    if countries[i]['country'] == 'The former Yugoslav Republic of Macedonia':\n",
    "        countries[i]['country'] = 'Macedonia [FYROM]'\n",
    "    if countries[i]['country'] == 'Republic of Moldova':\n",
    "        countries[i]['country'] = 'Moldova'\n",
    "    if countries[i]['country'] == 'United Republic of Tanzania':\n",
    "        countries[i]['country'] = 'Tanzania'\n",
    "    if countries[i]['country'] == 'Democratic Republic of the Congo':\n",
    "        countries[i]['country'] = 'Congo [DRC]'\n",
    "        "
   ]
  },
  {
   "cell_type": "code",
   "execution_count": null,
   "metadata": {},
   "outputs": [],
   "source": []
  },
  {
   "cell_type": "code",
   "execution_count": 320,
   "metadata": {},
   "outputs": [],
   "source": [
    "for i in range(len(coordinates)):\n",
    "    for j in range(len(countries)):\n",
    "        if coordinates[i]['name'] in countries[j].values():\n",
    "            countries[j]['code'] = str(coordinates[i]['code'])\n",
    "            countries[j]['latitude'] = float(coordinates[i]['latitude'])\n",
    "            countries[j]['longitude'] = float(coordinates[i]['longitude'])\n",
    "            countries[j]['location'] = (coordinates[i]['location'])"
   ]
  },
  {
   "cell_type": "code",
   "execution_count": 321,
   "metadata": {},
   "outputs": [
    {
     "data": {
      "text/plain": [
       "{'country': 'United States',\n",
       " 'respondentCount': 2597,\n",
       " 'code': 'US',\n",
       " 'latitude': 37.09024,\n",
       " 'longitude': -95.712891,\n",
       " 'location': [37.09024, -95.712891]}"
      ]
     },
     "execution_count": 321,
     "metadata": {},
     "output_type": "execute_result"
    }
   ],
   "source": [
    "countries[0]"
   ]
  },
  {
   "cell_type": "code",
   "execution_count": 322,
   "metadata": {},
   "outputs": [
    {
     "data": {
      "text/plain": [
       "('China',\n",
       " 1420062022,\n",
       " '0.35 %',\n",
       " 5016094,\n",
       " 151,\n",
       " 9388211,\n",
       " -324919.0,\n",
       " '1.6',\n",
       " '39',\n",
       " '60 %',\n",
       " '18.41 %')"
      ]
     },
     "execution_count": 322,
     "metadata": {},
     "output_type": "execute_result"
    }
   ],
   "source": [
    "stats_query = '''\n",
    "    SELECT * FROM country_stats\n",
    "'''\n",
    "\n",
    "cur.execute(stats_query)\n",
    "stats_rows = cur.fetchall()\n",
    "stats_rows[0]"
   ]
  },
  {
   "cell_type": "code",
   "execution_count": 323,
   "metadata": {},
   "outputs": [
    {
     "data": {
      "text/plain": [
       "{'country': 'China', 'population': 1420062022}"
      ]
     },
     "execution_count": 323,
     "metadata": {},
     "output_type": "execute_result"
    }
   ],
   "source": [
    "stats = []\n",
    "\n",
    "for row in stats_rows:\n",
    "    tempDict = {}\n",
    "    tempDict[\"country\"] = row[0]\n",
    "    tempDict[\"population\"] = row[1]\n",
    "    stats.append(tempDict)\n",
    "stats[0]"
   ]
  },
  {
   "cell_type": "code",
   "execution_count": 324,
   "metadata": {},
   "outputs": [],
   "source": [
    "for i in range(len(stats)):\n",
    "    for j in range(len(countries)):\n",
    "        if stats[i]['country'] in countries[j].values():\n",
    "            countries[j]['population'] = stats[i]['population']\n",
    "            countries[j]['devsPerMill'] = countries[j]['respondentCount']/(stats[j]['population']/1000000)"
   ]
  },
  {
   "cell_type": "code",
   "execution_count": 329,
   "metadata": {},
   "outputs": [
    {
     "data": {
      "text/plain": [
       "3.15"
      ]
     },
     "execution_count": 329,
     "metadata": {},
     "output_type": "execute_result"
    }
   ],
   "source": [
    "len(countries)\n",
    "(round(3.14651515, 2))"
   ]
  },
  {
   "cell_type": "code",
   "execution_count": 326,
   "metadata": {},
   "outputs": [
    {
     "name": "stdout",
     "output_type": "stream",
     "text": [
      "{'country': 'Czech Republic', 'respondentCount': 82, 'code': 'CZ', 'latitude': 49.817492, 'longitude': 15.472961999999999, 'location': [49.817492, 15.472961999999999]}\n",
      "{'country': 'Hong Kong (S.A.R.)', 'respondentCount': 26}\n",
      "{'country': 'Other Country (Not Listed Above)', 'respondentCount': 14}\n",
      "{'country': 'Macedonia [FYROM]', 'respondentCount': 5, 'code': 'MK', 'latitude': 41.608635, 'longitude': 21.745275, 'location': [41.608635, 21.745275]}\n",
      "{'country': 'Cape Verde', 'respondentCount': 1, 'code': 'CV', 'latitude': 16.002082, 'longitude': -24.013197, 'location': [16.002082, -24.013197]}\n",
      "{'country': 'Congo [DRC]', 'respondentCount': 1, 'code': 'CD', 'latitude': -4.038333000000001, 'longitude': 21.758664000000003, 'location': [-4.038333000000001, 21.758664000000003]}\n",
      "{'country': 'São Tomé and Príncipe', 'respondentCount': 1, 'code': 'ST', 'latitude': 0.18636, 'longitude': 6.613081, 'location': [0.18636, 6.613081]}\n",
      "{'country': None, 'respondentCount': 0}\n"
     ]
    }
   ],
   "source": [
    "for country in countries:\n",
    "    if 'population' not in country.keys():\n",
    "        print(country)\n",
    "#     print(country['population'])\n",
    "    "
   ]
  },
  {
   "cell_type": "code",
   "execution_count": 162,
   "metadata": {},
   "outputs": [
    {
     "name": "stdout",
     "output_type": "stream",
     "text": [
      "error occurred\n",
      "error occurred\n",
      "error occurred\n",
      "error occurred\n",
      "error occurred\n",
      "error occurred\n",
      "error occurred\n",
      "error occurred\n",
      "error occurred\n",
      "error occurred\n",
      "error occurred\n",
      "error occurred\n",
      "error occurred\n",
      "error occurred\n",
      "error occurred\n"
     ]
    }
   ],
   "source": [
    "for i in range(len(countries)):\n",
    "    try:\n",
    "    # populationScale = countries[i]['pupulation']/1000000\n",
    "        countries[i]['devsPerMill'] = int(countries[i]['respondentCount'])/int(countries[i]['population'])\n",
    "#         print(countries[i])\n",
    "    except:\n",
    "#         continue\n",
    "        print(\"error occurred\")"
   ]
  },
  {
   "cell_type": "code",
   "execution_count": 257,
   "metadata": {},
   "outputs": [
    {
     "data": {
      "text/plain": [
       "[{'country': 'Russian Federation', 'respondentCount': 214},\n",
       " {'country': 'Czech Republic',\n",
       "  'respondentCount': 82,\n",
       "  'code': 'CZ',\n",
       "  'latitude': 49.817492,\n",
       "  'longitude': 15.472961999999999,\n",
       "  'location': [49.817492, 15.472961999999999]},\n",
       " {'country': 'Viet Nam', 'respondentCount': 32},\n",
       " {'country': 'Hong Kong (S.A.R.)', 'respondentCount': 26},\n",
       " {'country': 'Other Country (Not Listed Above)', 'respondentCount': 14},\n",
       " {'country': 'Venezuela, Bolivarian Republic of...', 'respondentCount': 11},\n",
       " {'country': 'Republic of Korea', 'respondentCount': 5},\n",
       " {'country': 'The former Yugoslav Republic of Macedonia',\n",
       "  'respondentCount': 5},\n",
       " {'country': 'Republic of Moldova', 'respondentCount': 4},\n",
       " {'country': 'Syrian Arab Republic', 'respondentCount': 4},\n",
       " {'country': 'United Republic of Tanzania', 'respondentCount': 3},\n",
       " {'country': 'Cape Verde',\n",
       "  'respondentCount': 1,\n",
       "  'code': 'CV',\n",
       "  'latitude': 16.002082,\n",
       "  'longitude': -24.013197,\n",
       "  'location': [16.002082, -24.013197]},\n",
       " {'country': 'Democratic Republic of the Congo', 'respondentCount': 1},\n",
       " {'country': \"Lao People's Democratic Republic\", 'respondentCount': 1},\n",
       " {'country': 'Sao Tome and Principe', 'respondentCount': 1},\n",
       " {'country': None, 'respondentCount': 0}]"
      ]
     },
     "execution_count": 257,
     "metadata": {},
     "output_type": "execute_result"
    }
   ],
   "source": [
    "countries_no_population = []\n",
    "no_population = []\n",
    "for country in countries:\n",
    "    if 'population' not in country.keys():\n",
    "#         no_population.append(country)\n",
    "#         print(country['population'])\n",
    "        countries_no_population.append(country)\n",
    "#         print(country)\n",
    "#     print(country['population'])\n",
    "countries_no_population"
   ]
  },
  {
   "cell_type": "code",
   "execution_count": 261,
   "metadata": {},
   "outputs": [],
   "source": [
    "for i in range(len(countries)):\n",
    "    if countries[i]['country'] == 'Russian Federation':\n",
    "        countries[i]['country'] = 'Russia'\n",
    "    if countries[i]['country'] == 'Czech Republic':\n",
    "        countries[i]['country'] = 'Czech Republic'\n",
    "    if countries[i]['country'] == 'Viet Nam':\n",
    "        countries[i]['country'] = 'Vietnam'\n",
    "    if countries[i]['country'] == 'Venezuela, Bolivarian Republic of...':\n",
    "        countries[i]['country'] = 'Venezuela'\n",
    "    if countries[i]['country'] == 'Republic of Korea':\n",
    "        countries[i]['country'] = 'North Korea'\n",
    "    if countries[i]['country'] == 'Syrian Arab Republic':\n",
    "        countries[i]['country'] = 'Syria'\n",
    "    if countries[i]['country'] == \"Lao People's Democratic Republic\":\n",
    "        countries[i]['country'] = 'Laos'\n",
    "    if countries[i]['country'] == 'Sao Tome and Principe':\n",
    "        countries[i]['country'] = 'São Tomé and Príncipe'\n",
    "    if countries[i]['country'] == 'The former Yugoslav Republic of Macedonia':\n",
    "        countries[i]['country'] = 'Macedonia [FYROM]'\n",
    "    if countries[i]['country'] == 'Republic of Moldova':\n",
    "        countries[i]['country'] = 'Moldova'\n",
    "    if countries[i]['country'] == 'United Republic of Tanzania':\n",
    "        countries[i]['country'] = 'Tanzania'\n",
    "    if countries[i]['country'] == 'Democratic Republic of the Congo':\n",
    "        countries[i]['country'] = 'Congo [DRC]'\n",
    "        "
   ]
  },
  {
   "cell_type": "code",
   "execution_count": null,
   "metadata": {},
   "outputs": [],
   "source": []
  },
  {
   "cell_type": "code",
   "execution_count": 260,
   "metadata": {},
   "outputs": [],
   "source": [
    "for i in range(len(countries)):\n",
    "    if countries[i]['country'] == 'Russian Federation':\n",
    "        print(countries[i])"
   ]
  },
  {
   "cell_type": "code",
   "execution_count": 256,
   "metadata": {},
   "outputs": [
    {
     "data": {
      "text/plain": [
       "['Russia',\n",
       " 'Czech Republic',\n",
       " 'Viet Nam',\n",
       " 'Hong Kong (S.A.R.)',\n",
       " 'Other Country (Not Listed Above)',\n",
       " 'Venezuela, Bolivarian Republic of...',\n",
       " 'Republic of Korea',\n",
       " 'The former Yugoslav Republic of Macedonia',\n",
       " 'Republic of Moldova',\n",
       " 'Syrian Arab Republic',\n",
       " 'United Republic of Tanzania',\n",
       " 'Cape Verde',\n",
       " 'Democratic Republic of the Congo',\n",
       " \"Lao People's Democratic Republic\",\n",
       " 'Sao Tome and Principe',\n",
       " None]"
      ]
     },
     "execution_count": 256,
     "metadata": {},
     "output_type": "execute_result"
    }
   ],
   "source": [
    "c = [item['country'] for item in countries_with_population ]\n",
    "c[0] = 'Russia'\n",
    "c[1] = "
   ]
  },
  {
   "cell_type": "code",
   "execution_count": 250,
   "metadata": {},
   "outputs": [
    {
     "name": "stdout",
     "output_type": "stream",
     "text": [
      "{'country': 'Russian Federation', 'respondentCount': 214}\n",
      "Russian Federation\n"
     ]
    }
   ],
   "source": [
    "for i in range(len(countries)):\n",
    "    if countries[i]['country'] == 'Russian Federation':\n",
    "        print(countries[i])\n",
    "        countries[i]['country'] == 'Russia'\n",
    "        print(countries[i]['country'])\n",
    "        "
   ]
  },
  {
   "cell_type": "code",
   "execution_count": 246,
   "metadata": {},
   "outputs": [],
   "source": [
    "rus = {'country': 'Russian Federation', 'respondentCount': 214}"
   ]
  },
  {
   "cell_type": "code",
   "execution_count": 249,
   "metadata": {},
   "outputs": [
    {
     "data": {
      "text/plain": [
       "{'country': 'Russia', 'respondentCount': 214}"
      ]
     },
     "execution_count": 249,
     "metadata": {},
     "output_type": "execute_result"
    }
   ],
   "source": [
    "rus['country'] = 'Russia'\n",
    "rus"
   ]
  },
  {
   "cell_type": "code",
   "execution_count": 222,
   "metadata": {},
   "outputs": [
    {
     "data": {
      "text/plain": [
       "0"
      ]
     },
     "execution_count": 222,
     "metadata": {},
     "output_type": "execute_result"
    }
   ],
   "source": [
    "len(countries_with_population)"
   ]
  },
  {
   "cell_type": "code",
   "execution_count": 233,
   "metadata": {},
   "outputs": [],
   "source": [
    "countries_with_population = []\n",
    "for country in countries:\n",
    "    if 'population' in country.keys():\n",
    "        countries_with_population.append(country)"
   ]
  },
  {
   "cell_type": "code",
   "execution_count": 235,
   "metadata": {},
   "outputs": [
    {
     "data": {
      "text/plain": [
       "127"
      ]
     },
     "execution_count": 235,
     "metadata": {},
     "output_type": "execute_result"
    }
   ],
   "source": [
    "len(countries_with_population)"
   ]
  },
  {
   "cell_type": "code",
   "execution_count": 218,
   "metadata": {},
   "outputs": [],
   "source": [
    "countries_with_population = [country for country in countries if 'population' in country.keys()]"
   ]
  },
  {
   "cell_type": "code",
   "execution_count": 219,
   "metadata": {},
   "outputs": [
    {
     "data": {
      "text/plain": [
       "0"
      ]
     },
     "execution_count": 219,
     "metadata": {},
     "output_type": "execute_result"
    }
   ],
   "source": [
    "len(countries_with_population)"
   ]
  },
  {
   "cell_type": "code",
   "execution_count": 216,
   "metadata": {},
   "outputs": [
    {
     "data": {
      "text/plain": [
       "143"
      ]
     },
     "execution_count": 216,
     "metadata": {},
     "output_type": "execute_result"
    }
   ],
   "source": [
    "len(countries)"
   ]
  },
  {
   "cell_type": "code",
   "execution_count": 159,
   "metadata": {},
   "outputs": [],
   "source": [
    "countries = [item for item in countries if item['country'] is not None]\n"
   ]
  },
  {
   "cell_type": "code",
   "execution_count": 160,
   "metadata": {},
   "outputs": [
    {
     "ename": "KeyError",
     "evalue": "'population'",
     "output_type": "error",
     "traceback": [
      "\u001b[0;31m---------------------------------------------------------------------------\u001b[0m",
      "\u001b[0;31mKeyError\u001b[0m                                  Traceback (most recent call last)",
      "\u001b[0;32m<ipython-input-160-296a191d5b92>\u001b[0m in \u001b[0;36m<module>\u001b[0;34m\u001b[0m\n\u001b[1;32m      1\u001b[0m \u001b[0;34m\u001b[0m\u001b[0m\n\u001b[0;32m----> 2\u001b[0;31m \u001b[0mcountries\u001b[0m \u001b[0;34m=\u001b[0m \u001b[0;34m[\u001b[0m\u001b[0mitem\u001b[0m \u001b[0;32mfor\u001b[0m \u001b[0mitem\u001b[0m \u001b[0;32min\u001b[0m \u001b[0mcountries\u001b[0m \u001b[0;32mif\u001b[0m \u001b[0mitem\u001b[0m\u001b[0;34m[\u001b[0m\u001b[0;34m'population'\u001b[0m\u001b[0;34m]\u001b[0m \u001b[0;32mis\u001b[0m \u001b[0;32mnot\u001b[0m \u001b[0;32mNone\u001b[0m\u001b[0;34m]\u001b[0m\u001b[0;34m\u001b[0m\u001b[0;34m\u001b[0m\u001b[0m\n\u001b[0m",
      "\u001b[0;32m<ipython-input-160-296a191d5b92>\u001b[0m in \u001b[0;36m<listcomp>\u001b[0;34m(.0)\u001b[0m\n\u001b[1;32m      1\u001b[0m \u001b[0;34m\u001b[0m\u001b[0m\n\u001b[0;32m----> 2\u001b[0;31m \u001b[0mcountries\u001b[0m \u001b[0;34m=\u001b[0m \u001b[0;34m[\u001b[0m\u001b[0mitem\u001b[0m \u001b[0;32mfor\u001b[0m \u001b[0mitem\u001b[0m \u001b[0;32min\u001b[0m \u001b[0mcountries\u001b[0m \u001b[0;32mif\u001b[0m \u001b[0mitem\u001b[0m\u001b[0;34m[\u001b[0m\u001b[0;34m'population'\u001b[0m\u001b[0;34m]\u001b[0m \u001b[0;32mis\u001b[0m \u001b[0;32mnot\u001b[0m \u001b[0;32mNone\u001b[0m\u001b[0;34m]\u001b[0m\u001b[0;34m\u001b[0m\u001b[0;34m\u001b[0m\u001b[0m\n\u001b[0m",
      "\u001b[0;31mKeyError\u001b[0m: 'population'"
     ]
    }
   ],
   "source": [
    "\n",
    "countries = [item for item in countries if item['population'] is not None]\n"
   ]
  },
  {
   "cell_type": "code",
   "execution_count": 152,
   "metadata": {},
   "outputs": [
    {
     "data": {
      "text/plain": [
       "142"
      ]
     },
     "execution_count": 152,
     "metadata": {},
     "output_type": "execute_result"
    }
   ],
   "source": [
    "len(countries)"
   ]
  },
  {
   "cell_type": "code",
   "execution_count": 132,
   "metadata": {},
   "outputs": [
    {
     "ename": "KeyError",
     "evalue": "'population'",
     "output_type": "error",
     "traceback": [
      "\u001b[0;31m---------------------------------------------------------------------------\u001b[0m",
      "\u001b[0;31mKeyError\u001b[0m                                  Traceback (most recent call last)",
      "\u001b[0;32m<ipython-input-132-62fc5bdb4acf>\u001b[0m in \u001b[0;36m<module>\u001b[0;34m\u001b[0m\n\u001b[1;32m      1\u001b[0m \u001b[0;32mfor\u001b[0m \u001b[0mcountry\u001b[0m \u001b[0;32min\u001b[0m \u001b[0mcountries\u001b[0m\u001b[0;34m[\u001b[0m\u001b[0;34m:\u001b[0m\u001b[0;36m10\u001b[0m\u001b[0;34m]\u001b[0m\u001b[0;34m:\u001b[0m\u001b[0;34m\u001b[0m\u001b[0;34m\u001b[0m\u001b[0m\n\u001b[0;32m----> 2\u001b[0;31m     \u001b[0mprint\u001b[0m\u001b[0;34m(\u001b[0m\u001b[0mcountry\u001b[0m\u001b[0;34m[\u001b[0m\u001b[0;34m'population'\u001b[0m\u001b[0;34m]\u001b[0m\u001b[0;34m)\u001b[0m\u001b[0;34m\u001b[0m\u001b[0;34m\u001b[0m\u001b[0m\n\u001b[0m",
      "\u001b[0;31mKeyError\u001b[0m: 'population'"
     ]
    }
   ],
   "source": [
    "for country in countries[:10]:\n",
    "    print(country['population'])"
   ]
  },
  {
   "cell_type": "code",
   "execution_count": null,
   "metadata": {},
   "outputs": [],
   "source": []
  },
  {
   "cell_type": "code",
   "execution_count": null,
   "metadata": {},
   "outputs": [],
   "source": []
  },
  {
   "cell_type": "markdown",
   "metadata": {},
   "source": [
    "* SCRAPED DATA for latitude and longitude"
   ]
  },
  {
   "cell_type": "code",
   "execution_count": 77,
   "metadata": {},
   "outputs": [
    {
     "data": {
      "text/plain": [
       "int"
      ]
     },
     "execution_count": 77,
     "metadata": {},
     "output_type": "execute_result"
    }
   ],
   "source": [
    "type(countries[0]['population'])"
   ]
  },
  {
   "cell_type": "code",
   "execution_count": null,
   "metadata": {},
   "outputs": [],
   "source": []
  },
  {
   "cell_type": "code",
   "execution_count": 33,
   "metadata": {},
   "outputs": [],
   "source": [
    "country_url = \"https://developers.google.com/public-data/docs/canonical/countries_csv\""
   ]
  },
  {
   "cell_type": "code",
   "execution_count": 34,
   "metadata": {},
   "outputs": [],
   "source": [
    "country_tables = pd.read_html(country_url)"
   ]
  },
  {
   "cell_type": "code",
   "execution_count": 39,
   "metadata": {},
   "outputs": [
    {
     "data": {
      "text/html": [
       "<div>\n",
       "<style scoped>\n",
       "    .dataframe tbody tr th:only-of-type {\n",
       "        vertical-align: middle;\n",
       "    }\n",
       "\n",
       "    .dataframe tbody tr th {\n",
       "        vertical-align: top;\n",
       "    }\n",
       "\n",
       "    .dataframe thead th {\n",
       "        text-align: right;\n",
       "    }\n",
       "</style>\n",
       "<table border=\"1\" class=\"dataframe\">\n",
       "  <thead>\n",
       "    <tr style=\"text-align: right;\">\n",
       "      <th></th>\n",
       "      <th>country</th>\n",
       "      <th>latitude</th>\n",
       "      <th>longitude</th>\n",
       "      <th>name</th>\n",
       "    </tr>\n",
       "  </thead>\n",
       "  <tbody>\n",
       "    <tr>\n",
       "      <th>0</th>\n",
       "      <td>AD</td>\n",
       "      <td>42.546245</td>\n",
       "      <td>1.601554</td>\n",
       "      <td>Andorra</td>\n",
       "    </tr>\n",
       "    <tr>\n",
       "      <th>1</th>\n",
       "      <td>AE</td>\n",
       "      <td>23.424076</td>\n",
       "      <td>53.847818</td>\n",
       "      <td>United Arab Emirates</td>\n",
       "    </tr>\n",
       "    <tr>\n",
       "      <th>2</th>\n",
       "      <td>AF</td>\n",
       "      <td>33.939110</td>\n",
       "      <td>67.709953</td>\n",
       "      <td>Afghanistan</td>\n",
       "    </tr>\n",
       "  </tbody>\n",
       "</table>\n",
       "</div>"
      ],
      "text/plain": [
       "  country   latitude  longitude                  name\n",
       "0      AD  42.546245   1.601554               Andorra\n",
       "1      AE  23.424076  53.847818  United Arab Emirates\n",
       "2      AF  33.939110  67.709953           Afghanistan"
      ]
     },
     "execution_count": 39,
     "metadata": {},
     "output_type": "execute_result"
    }
   ],
   "source": [
    "country_tables[:3]"
   ]
  },
  {
   "cell_type": "code",
   "execution_count": 40,
   "metadata": {},
   "outputs": [],
   "source": [
    "country_tables.to_csv(\"developer_survey_2019/country_coordinates.csv\", index=False)"
   ]
  },
  {
   "cell_type": "code",
   "execution_count": 41,
   "metadata": {},
   "outputs": [],
   "source": [
    "country_tables.to_sql(name='country_coordinates', con=conn, if_exists='replace', index=False)\n"
   ]
  },
  {
   "cell_type": "code",
   "execution_count": 53,
   "metadata": {},
   "outputs": [
    {
     "data": {
      "text/plain": [
       "<sqlite3.Cursor at 0x7f9839033960>"
      ]
     },
     "execution_count": 53,
     "metadata": {},
     "output_type": "execute_result"
    }
   ],
   "source": [
    "cur.execute(\"select * from country_coordinates\")"
   ]
  },
  {
   "cell_type": "code",
   "execution_count": 54,
   "metadata": {},
   "outputs": [
    {
     "data": {
      "text/plain": [
       "[('AD', 42.546245, 1.6015540000000001, 'Andorra'),\n",
       " ('AE', 23.424076, 53.847818000000004, 'United Arab Emirates')]"
      ]
     },
     "execution_count": 54,
     "metadata": {},
     "output_type": "execute_result"
    }
   ],
   "source": [
    "cur.fetchall()[:2]"
   ]
  },
  {
   "cell_type": "markdown",
   "metadata": {},
   "source": []
  },
  {
   "cell_type": "code",
   "execution_count": 206,
   "metadata": {},
   "outputs": [],
   "source": []
  },
  {
   "cell_type": "code",
   "execution_count": 208,
   "metadata": {},
   "outputs": [
    {
     "data": {
      "text/plain": [
       "{'country': 'United States',\n",
       " 'respondentCount': 2597,\n",
       " 'code': 'US',\n",
       " 'latitude': 37.09024,\n",
       " 'longitude': -95.712891,\n",
       " 'location': [37.09024, -95.712891],\n",
       " 'population': 329093110}"
      ]
     },
     "execution_count": 208,
     "metadata": {},
     "output_type": "execute_result"
    }
   ],
   "source": [
    "countries[0]"
   ]
  },
  {
   "cell_type": "code",
   "execution_count": 205,
   "metadata": {},
   "outputs": [
    {
     "data": {
      "text/plain": [
       "[{'country': 'China', 'population': 1420062022},\n",
       " {'country': 'India', 'population': 1368737513},\n",
       " {'country': 'United States', 'population': 329093110}]"
      ]
     },
     "execution_count": 205,
     "metadata": {},
     "output_type": "execute_result"
    }
   ],
   "source": [
    "stats[:3]"
   ]
  },
  {
   "cell_type": "code",
   "execution_count": null,
   "metadata": {},
   "outputs": [],
   "source": [
    "stats_query = '''\n",
    "    SELECT * FROM country_stats\n",
    "'''\n",
    "\n",
    "cur.execute(stats_query)\n",
    "stats_rows = cur.fetchall()\n",
    "\n",
    "stats = []\n",
    "\n",
    "for row in stats_rows:\n",
    "    print(row[1])\n",
    "    tempDict = {}\n",
    "    tempDict[\"country\"] = row[0]\n",
    "    tempDict[\"population\"] = row[1]\n",
    "    stats.append(tempDict)"
   ]
  },
  {
   "cell_type": "code",
   "execution_count": 201,
   "metadata": {},
   "outputs": [
    {
     "data": {
      "text/plain": [
       "[{'country': 'China', 'population': 1420062022},\n",
       " {'country': 'India', 'population': 1368737513},\n",
       " {'country': 'United States', 'population': 329093110},\n",
       " {'country': 'Indonesia', 'population': 269536482},\n",
       " {'country': 'Brazil', 'population': 212392717}]"
      ]
     },
     "execution_count": 201,
     "metadata": {},
     "output_type": "execute_result"
    }
   ],
   "source": [
    "stats[:5]"
   ]
  },
  {
   "cell_type": "code",
   "execution_count": null,
   "metadata": {},
   "outputs": [],
   "source": []
  },
  {
   "cell_type": "code",
   "execution_count": 174,
   "metadata": {},
   "outputs": [
    {
     "data": {
      "text/plain": [
       "[{'country': 'United States',\n",
       "  'respondentCount': 2597,\n",
       "  'code': 'US',\n",
       "  'latitude': 37.09024,\n",
       "  'longitude': -95.712891,\n",
       "  'location': [37.09024, -95.712891]},\n",
       " {'country': 'India',\n",
       "  'respondentCount': 1077,\n",
       "  'code': 'IN',\n",
       "  'latitude': 20.593684,\n",
       "  'longitude': 78.96288,\n",
       "  'location': [20.593684, 78.96288]}]"
      ]
     },
     "execution_count": 174,
     "metadata": {},
     "output_type": "execute_result"
    }
   ],
   "source": [
    "countries[:2]"
   ]
  },
  {
   "cell_type": "code",
   "execution_count": 135,
   "metadata": {},
   "outputs": [
    {
     "data": {
      "text/plain": [
       "[{'country': 'Yemen',\n",
       "  'respondentCount': 1,\n",
       "  'code': 'YE',\n",
       "  'latitude': 15.552726999999999,\n",
       "  'longitude': 48.516388},\n",
       " {'country': 'Zambia',\n",
       "  'respondentCount': 1,\n",
       "  'code': 'ZM',\n",
       "  'latitude': -13.133897,\n",
       "  'longitude': 27.849332}]"
      ]
     },
     "execution_count": 135,
     "metadata": {},
     "output_type": "execute_result"
    }
   ],
   "source": [
    "countries[-2:]"
   ]
  },
  {
   "cell_type": "code",
   "execution_count": 108,
   "metadata": {},
   "outputs": [
    {
     "data": {
      "text/plain": [
       "143"
      ]
     },
     "execution_count": 108,
     "metadata": {},
     "output_type": "execute_result"
    }
   ],
   "source": [
    "len(countries)"
   ]
  },
  {
   "cell_type": "code",
   "execution_count": null,
   "metadata": {},
   "outputs": [],
   "source": []
  },
  {
   "cell_type": "code",
   "execution_count": 181,
   "metadata": {},
   "outputs": [],
   "source": [
    "stats_url = 'https://www.worldometers.info/world-population/population-by-country/'"
   ]
  },
  {
   "cell_type": "code",
   "execution_count": 182,
   "metadata": {},
   "outputs": [],
   "source": [
    "country_stats = pd.read_html(stats_url)"
   ]
  },
  {
   "cell_type": "code",
   "execution_count": 183,
   "metadata": {},
   "outputs": [],
   "source": [
    "country_stats_df = country_stats[0]"
   ]
  },
  {
   "cell_type": "code",
   "execution_count": 184,
   "metadata": {},
   "outputs": [
    {
     "name": "stdout",
     "output_type": "stream",
     "text": [
      "233\n"
     ]
    }
   ],
   "source": [
    "print(len(country_stats_df))\n",
    "\n"
   ]
  },
  {
   "cell_type": "code",
   "execution_count": 185,
   "metadata": {},
   "outputs": [
    {
     "data": {
      "text/plain": [
       "Index(['#', 'Country (or dependency)', 'Population (2019)', 'Yearly Change',\n",
       "       'Net Change', 'Density (P/Km²)', 'Land Area (Km²)', 'Migrants (net)',\n",
       "       'Fert. Rate', 'Med. Age', 'Urban Pop %', 'World Share'],\n",
       "      dtype='object')"
      ]
     },
     "execution_count": 185,
     "metadata": {},
     "output_type": "execute_result"
    }
   ],
   "source": [
    "country_stats_df.columns\n"
   ]
  },
  {
   "cell_type": "code",
   "execution_count": 186,
   "metadata": {},
   "outputs": [],
   "source": [
    "del country_stats_df['#']"
   ]
  },
  {
   "cell_type": "code",
   "execution_count": 187,
   "metadata": {},
   "outputs": [
    {
     "data": {
      "text/plain": [
       "Index(['Country (or dependency)', 'Population (2019)', 'Yearly Change',\n",
       "       'Net Change', 'Density (P/Km²)', 'Land Area (Km²)', 'Migrants (net)',\n",
       "       'Fert. Rate', 'Med. Age', 'Urban Pop %', 'World Share'],\n",
       "      dtype='object')"
      ]
     },
     "execution_count": 187,
     "metadata": {},
     "output_type": "execute_result"
    }
   ],
   "source": [
    "country_stats_df.columns"
   ]
  },
  {
   "cell_type": "code",
   "execution_count": 188,
   "metadata": {},
   "outputs": [],
   "source": [
    "country_stats_df.columns = ['Country', 'Population', 'YearlyChange', 'NetChange',\\\n",
    "              'Density', 'LandAreaKm2', 'MigrantsNet', 'FertRate',\\\n",
    "              'MedAge', 'UrbanPop%', 'WorldShare']"
   ]
  },
  {
   "cell_type": "code",
   "execution_count": 189,
   "metadata": {},
   "outputs": [
    {
     "data": {
      "text/html": [
       "<div>\n",
       "<style scoped>\n",
       "    .dataframe tbody tr th:only-of-type {\n",
       "        vertical-align: middle;\n",
       "    }\n",
       "\n",
       "    .dataframe tbody tr th {\n",
       "        vertical-align: top;\n",
       "    }\n",
       "\n",
       "    .dataframe thead th {\n",
       "        text-align: right;\n",
       "    }\n",
       "</style>\n",
       "<table border=\"1\" class=\"dataframe\">\n",
       "  <thead>\n",
       "    <tr style=\"text-align: right;\">\n",
       "      <th></th>\n",
       "      <th>Country</th>\n",
       "      <th>Population</th>\n",
       "      <th>YearlyChange</th>\n",
       "      <th>NetChange</th>\n",
       "      <th>Density</th>\n",
       "      <th>LandAreaKm2</th>\n",
       "      <th>MigrantsNet</th>\n",
       "      <th>FertRate</th>\n",
       "      <th>MedAge</th>\n",
       "      <th>UrbanPop%</th>\n",
       "      <th>WorldShare</th>\n",
       "    </tr>\n",
       "  </thead>\n",
       "  <tbody>\n",
       "    <tr>\n",
       "      <th>0</th>\n",
       "      <td>China</td>\n",
       "      <td>1420062022</td>\n",
       "      <td>0.35 %</td>\n",
       "      <td>5016094</td>\n",
       "      <td>151</td>\n",
       "      <td>9388211</td>\n",
       "      <td>-324919.0</td>\n",
       "      <td>1.6</td>\n",
       "      <td>39</td>\n",
       "      <td>60 %</td>\n",
       "      <td>18.41 %</td>\n",
       "    </tr>\n",
       "    <tr>\n",
       "      <th>1</th>\n",
       "      <td>India</td>\n",
       "      <td>1368737513</td>\n",
       "      <td>1.08 %</td>\n",
       "      <td>14685659</td>\n",
       "      <td>460</td>\n",
       "      <td>2973190</td>\n",
       "      <td>-490000.0</td>\n",
       "      <td>2.3</td>\n",
       "      <td>28</td>\n",
       "      <td>34 %</td>\n",
       "      <td>17.74 %</td>\n",
       "    </tr>\n",
       "  </tbody>\n",
       "</table>\n",
       "</div>"
      ],
      "text/plain": [
       "  Country  Population YearlyChange  NetChange  Density  LandAreaKm2  \\\n",
       "0   China  1420062022       0.35 %    5016094      151      9388211   \n",
       "1   India  1368737513       1.08 %   14685659      460      2973190   \n",
       "\n",
       "   MigrantsNet FertRate MedAge UrbanPop% WorldShare  \n",
       "0    -324919.0      1.6     39      60 %    18.41 %  \n",
       "1    -490000.0      2.3     28      34 %    17.74 %  "
      ]
     },
     "execution_count": 189,
     "metadata": {},
     "output_type": "execute_result"
    }
   ],
   "source": [
    "country_stats_df[:2]"
   ]
  },
  {
   "cell_type": "code",
   "execution_count": 190,
   "metadata": {},
   "outputs": [],
   "source": [
    "country_stats_df.to_csv(\"developer_survey_2019/worldPopulation2019.csv\", index=False)"
   ]
  },
  {
   "cell_type": "code",
   "execution_count": 191,
   "metadata": {},
   "outputs": [
    {
     "data": {
      "text/plain": [
       "0    China\n",
       "1    India\n",
       "Name: Country, dtype: object"
      ]
     },
     "execution_count": 191,
     "metadata": {},
     "output_type": "execute_result"
    }
   ],
   "source": [
    "country_stats_df['Country'][:2]"
   ]
  },
  {
   "cell_type": "code",
   "execution_count": 192,
   "metadata": {},
   "outputs": [
    {
     "data": {
      "text/plain": [
       "233"
      ]
     },
     "execution_count": 192,
     "metadata": {},
     "output_type": "execute_result"
    }
   ],
   "source": [
    "len(country_stats_df)"
   ]
  },
  {
   "cell_type": "code",
   "execution_count": 193,
   "metadata": {},
   "outputs": [],
   "source": [
    "wiki_countries = pd.read_html('https://en.wikipedia.org/wiki/List_of_countries_by_population_(United_Nations)') "
   ]
  },
  {
   "cell_type": "code",
   "execution_count": 209,
   "metadata": {},
   "outputs": [
    {
     "data": {
      "text/plain": [
       "Index(['Rank', 'Country or area', 'UN continentalregion[2]',\n",
       "       'UN statisticalregion[2]', 'Population(1 July 2018)[3]',\n",
       "       'Population(1 July 2019)[3]', 'Change'],\n",
       "      dtype='object')"
      ]
     },
     "execution_count": 209,
     "metadata": {},
     "output_type": "execute_result"
    }
   ],
   "source": [
    "wiki_countries[1].columns"
   ]
  },
  {
   "cell_type": "code",
   "execution_count": null,
   "metadata": {},
   "outputs": [],
   "source": []
  },
  {
   "cell_type": "code",
   "execution_count": null,
   "metadata": {},
   "outputs": [],
   "source": []
  },
  {
   "cell_type": "markdown",
   "metadata": {},
   "source": [
    "### create country stats sql table"
   ]
  },
  {
   "cell_type": "code",
   "execution_count": 167,
   "metadata": {},
   "outputs": [
    {
     "data": {
      "text/plain": [
       "'/Users/x22/Desktop/MyGTdata/MyHW/d3js'"
      ]
     },
     "execution_count": 167,
     "metadata": {},
     "output_type": "execute_result"
    }
   ],
   "source": [
    "pwd"
   ]
  },
  {
   "cell_type": "code",
   "execution_count": 179,
   "metadata": {},
   "outputs": [],
   "source": [
    "country_stats_df.to_sql(name='country_stats', con=conn, if_exists='replace', index=False)\n"
   ]
  },
  {
   "cell_type": "code",
   "execution_count": 183,
   "metadata": {},
   "outputs": [
    {
     "data": {
      "text/plain": [
       "<sqlite3.Cursor at 0x7f97e9e02b90>"
      ]
     },
     "execution_count": 183,
     "metadata": {},
     "output_type": "execute_result"
    }
   ],
   "source": [
    "cur.execute(\"select * from country_stats\")"
   ]
  },
  {
   "cell_type": "code",
   "execution_count": 184,
   "metadata": {},
   "outputs": [],
   "source": [
    "rows = cur.fetchall()"
   ]
  },
  {
   "cell_type": "code",
   "execution_count": 186,
   "metadata": {},
   "outputs": [
    {
     "data": {
      "text/plain": [
       "('China',\n",
       " 1420062022,\n",
       " '0.35 %',\n",
       " 5016094,\n",
       " 151,\n",
       " 9388211,\n",
       " -324919.0,\n",
       " '1.6',\n",
       " '39',\n",
       " '60 %',\n",
       " '18.41 %')"
      ]
     },
     "execution_count": 186,
     "metadata": {},
     "output_type": "execute_result"
    }
   ],
   "source": [
    "# type(stats[0][1])\n",
    "rows[0]"
   ]
  },
  {
   "cell_type": "markdown",
   "metadata": {},
   "source": [
    "### add coordinates to count of respondents by country(from original survey)"
   ]
  },
  {
   "cell_type": "code",
   "execution_count": null,
   "metadata": {},
   "outputs": [],
   "source": [
    "# Russian Federation Coordinates: 61.5240, 105.3188\n",
    "conn = sqlite3.connect(\"dash_app/db/js_overload.sqlite\")\n",
    "cur = conn.cursor()\n",
    "\n",
    "coordinates_query = '''\n",
    "    SELECT * from country_coordinates\n",
    "'''\n",
    "cur.execute(coordinates_query)\n",
    "coordinates_rows = cur.fetchall()\n",
    "\n",
    "coordinates = []\n",
    "\n",
    "for row in coordinates_rows:\n",
    "    tempDict = {}\n",
    "    tempDict[\"code\"] = row[0]\n",
    "    tempDict[\"location\"] = [row[1], row[2]]\n",
    "    tempDict[\"latitude\"] = row[1]\n",
    "    tempDict[\"longitude\"] = row[2]\n",
    "    tempDict[\"name\"] = row[3]\n",
    "    coordinates.append(tempDict)\n",
    "    \n",
    "country_query = '''\n",
    "    SELECT Country, count(country) FROM jso11k\n",
    "    GROUP BY Country\n",
    "    ORDER BY COUNT(Country) DESC\n",
    "'''\n",
    "\n",
    "cur.execute(country_query)\n",
    "country_rows = cur.fetchall()\n",
    "\n",
    "countries = []\n",
    "\n",
    "for row in country_rows:\n",
    "    tempDict = {}\n",
    "    tempDict[\"country\"] = (row[0])\n",
    "    tempDict[\"respondentCount\"] = int(row[1])\n",
    "    # tempDict[row[0]] = int(row[1])\n",
    "    countries.append(tempDict)\n",
    "    \n",
    "for i in range(len(coordinates)):\n",
    "    for j in range(len(countries)):\n",
    "        if coordinates[i]['name'] in countries[j].values():\n",
    "            countries[j]['code'] = str(coordinates[i]['code'])\n",
    "            countries[j]['latitude'] = float(coordinates[i]['latitude'])\n",
    "            countries[j]['longitude'] = float(coordinates[i]['longitude'])\n",
    "            countries[j]['location'] = (coordinates[i]['location'])\n",
    "\n",
    "            \n",
    "stats_query = '''\n",
    "    SELECT * FROM country_stats\n",
    "'''\n",
    "\n",
    "cur.execute(stats_query)\n",
    "stats_rows = cur.fetchall()\n",
    "\n",
    "stats = []\n",
    "\n",
    "for row in stats_rows:\n",
    "    tempDict = {}\n",
    "    tempDict[\"country\"] = row[0]\n",
    "    tempDict[\"population\"] = row[1]\n",
    "    stats.append(tempDict)\n",
    "    \n",
    "for i in range(len(stats)):\n",
    "    for j in range(len(countries)):\n",
    "        if stats[i]['country'] in countries[j].values():\n",
    "            countries[j]['population'] = stats[i]['population']\n",
    "            \n",
    "countries = [item for item in countries if item['country'] is not None]\n"
   ]
  },
  {
   "cell_type": "code",
   "execution_count": null,
   "metadata": {},
   "outputs": [],
   "source": []
  },
  {
   "cell_type": "markdown",
   "metadata": {},
   "source": [
    "## Respondent Count by Gender"
   ]
  },
  {
   "cell_type": "code",
   "execution_count": 116,
   "metadata": {},
   "outputs": [],
   "source": [
    "genders_query = \"SELECT Gender, COUNT(Gender) FROM jso11k GROUP BY Gender\""
   ]
  },
  {
   "cell_type": "code",
   "execution_count": 117,
   "metadata": {},
   "outputs": [],
   "source": [
    "cur.execute(genders_query)\n",
    "rows = cur.fetchall()"
   ]
  },
  {
   "cell_type": "code",
   "execution_count": 118,
   "metadata": {},
   "outputs": [
    {
     "data": {
      "text/plain": [
       "[(None, 0),\n",
       " ('Man', 9588),\n",
       " ('Man;Non-binary, genderqueer, or gender non-conforming', 23),\n",
       " ('Non-binary, genderqueer, or gender non-conforming', 70),\n",
       " ('Woman', 813),\n",
       " ('Woman;Man', 15),\n",
       " ('Woman;Man;Non-binary, genderqueer, or gender non-conforming', 8),\n",
       " ('Woman;Non-binary, genderqueer, or gender non-conforming', 20)]"
      ]
     },
     "execution_count": 118,
     "metadata": {},
     "output_type": "execute_result"
    }
   ],
   "source": [
    "rows"
   ]
  },
  {
   "cell_type": "code",
   "execution_count": 119,
   "metadata": {},
   "outputs": [],
   "source": [
    "data = []\n",
    "for row in rows:\n",
    "    temp_dict = {}\n",
    "    temp_dict[row[0]] = row[1]\n",
    "    gender_data.append(temp_dict)\n",
    "\n",
    "# return jsonify(gender_data)"
   ]
  },
  {
   "cell_type": "code",
   "execution_count": 120,
   "metadata": {},
   "outputs": [
    {
     "data": {
      "text/plain": [
       "[{None: 0},\n",
       " {'Man': 9588},\n",
       " {'Man;Non-binary, genderqueer, or gender non-conforming': 23},\n",
       " {'Non-binary, genderqueer, or gender non-conforming': 70},\n",
       " {'Woman': 813},\n",
       " {'Woman;Man': 15},\n",
       " {'Woman;Man;Non-binary, genderqueer, or gender non-conforming': 8},\n",
       " {'Woman;Non-binary, genderqueer, or gender non-conforming': 20}]"
      ]
     },
     "execution_count": 120,
     "metadata": {},
     "output_type": "execute_result"
    }
   ],
   "source": [
    "data"
   ]
  },
  {
   "cell_type": "markdown",
   "metadata": {},
   "source": [
    "### Impostor Syndrom"
   ]
  },
  {
   "cell_type": "code",
   "execution_count": 124,
   "metadata": {},
   "outputs": [
    {
     "data": {
      "text/plain": [
       "[{None: 0},\n",
       " {'A little above average': 3904},\n",
       " {'A little below average': 663},\n",
       " {'Average': 2128},\n",
       " {'Far above average': 1920},\n",
       " {'Far below average': 191}]"
      ]
     },
     "execution_count": 124,
     "metadata": {},
     "output_type": "execute_result"
    }
   ],
   "source": [
    "# \"select count(ImpSyn) from jso88k\"\n",
    "cur.execute(\"select ImpSyn, count(ImpSyn) from jso11k group by ImpSyn\")\n",
    "rows = cur.fetchall()\n",
    "data = []\n",
    "for row in rows:\n",
    "    temp_dict = {}\n",
    "    temp_dict[row[0]] = row[1]\n",
    "    data.append(temp_dict)\n",
    "data"
   ]
  },
  {
   "cell_type": "code",
   "execution_count": null,
   "metadata": {},
   "outputs": [],
   "source": []
  },
  {
   "cell_type": "code",
   "execution_count": 135,
   "metadata": {},
   "outputs": [],
   "source": [
    "def get_data(query_string):\n",
    "    conn = sqlite3.connect(\"dash_app/db/js_overload.sqlite\")\n",
    "    cur = conn.cursor()\n",
    "    cur.execute(query_string)\n",
    "    rows = cur.fetchall()\n",
    "    data = []\n",
    "    for row in rows:\n",
    "        temp_dict = {}\n",
    "        temp_dict[row[0]] = row[1]\n",
    "        data.append(temp_dict)\n",
    "    return data"
   ]
  },
  {
   "cell_type": "code",
   "execution_count": 138,
   "metadata": {},
   "outputs": [],
   "source": [
    "q = \"select ImpSyn, count(ImpSyn) from jso11k group by ImpSyn\""
   ]
  },
  {
   "cell_type": "code",
   "execution_count": 139,
   "metadata": {},
   "outputs": [],
   "source": [
    "ImpSyn = get_data(q)"
   ]
  },
  {
   "cell_type": "code",
   "execution_count": 141,
   "metadata": {},
   "outputs": [
    {
     "data": {
      "text/plain": [
       "list"
      ]
     },
     "execution_count": 141,
     "metadata": {},
     "output_type": "execute_result"
    }
   ],
   "source": [
    "ImpSyn"
   ]
  },
  {
   "cell_type": "markdown",
   "metadata": {},
   "source": [
    "## Languages frequency in Men"
   ]
  },
  {
   "cell_type": "code",
   "execution_count": 39,
   "metadata": {},
   "outputs": [],
   "source": [
    "conn = sqlite3.connect(\"dash_app/db/js_overload.sqlite\")\n",
    "cur = conn.cursor()"
   ]
  },
  {
   "cell_type": "code",
   "execution_count": 90,
   "metadata": {},
   "outputs": [],
   "source": [
    "queries = {\n",
    "        \"man\": '''\n",
    "            SELECT LanguageWorkedWith, COUNT(LanguageWorkedWith)\n",
    "            FROM jso11k WHERE Gender = 'Man' and LanguageWorkedWith > 0\n",
    "            GROUP BY LanguageWorkedWith ORDER BY COUNT(LanguageWorkedWith)\n",
    "        ''',\n",
    "        \"woman\": '''\n",
    "            SELECT LanguageWorkedWith, COUNT(LanguageWorkedWith)\n",
    "            FROM jso11k\n",
    "            WHERE Gender = 'Woman' and LanguageWorkedWith > 0\n",
    "            GROUP BY LanguageWorkedWith ORDER BY COUNT(LanguageWorkedWith) DESC\n",
    "        ''',\n",
    "        \"other\": '''\n",
    "            SELECT LanguageWorkedWith, COUNT(LanguageWorkedWith)\n",
    "            FROM jso11k\n",
    "            WHERE Gender NOT IN ('Man', 'Woman') and LanguageWorkedWith > 0\n",
    "            GROUP BY LanguageWorkedWith ORDER BY COUNT(LanguageWorkedWith) DESC\n",
    "        '''\n",
    "    }\n",
    "\n",
    "languages_by_gender = []\n",
    "\n",
    "for key, value in queries.items():\n",
    "\n",
    "    cur.execute(value)\n",
    "    rows = cur.fetchall()\n",
    "\n",
    "    language_freq = {}\n",
    "\n",
    "    for row in rows:\n",
    "        languages = row[0].split(';')   \n",
    "        for item in languages:\n",
    "            if item in language_freq:\n",
    "#                 language_freq['']\n",
    "                language_freq[item] += int(row[1])\n",
    "            else:\n",
    "                language_freq[item] = int(row[1])\n",
    "\n",
    "    languages_by_gender.append([{'gender': key, 'languages':language_freq}])\n",
    "    \n",
    "\n",
    "# languages_by_gender = []\n",
    "\n",
    "# for key, value in queries.items():\n",
    "\n",
    "#     cur.execute(value)\n",
    "#     rows = cur.fetchall()\n",
    "\n",
    "#     language_freq = {'gender': '', 'language': '', 'count':0}\n",
    "\n",
    "#     for row in rows:\n",
    "#         languages = row[0].split(';')\n",
    "#         for item in languages:\n",
    "# #             if item in language_freq.values():\n",
    "#             if item == language_freq['language']:\n",
    "# #                 language_freq['gender'] = key\n",
    "# #                 language_freq['language'] = item\n",
    "#                 language_freq['count'] += int(row[1])\n",
    "#             else:\n",
    "#                 language_freq['gender'] = key\n",
    "#                 language_freq['language'] = item\n",
    "#                 language_freq['count'] = row[1] #int[row[1]]\n",
    "# #                 language_freq[item] = int(row[1])\n",
    "\n",
    "# #     languages_by_gender.append({\"gender\":key, \"languages:\":language_freq})\n",
    "#         languages_by_gender.append(language_freq)\n",
    "    "
   ]
  },
  {
   "cell_type": "code",
   "execution_count": 91,
   "metadata": {},
   "outputs": [
    {
     "data": {
      "text/plain": [
       "[[{'gender': 'man',\n",
       "   'languages': {'Assembly': 648,\n",
       "    'Bash/Shell/PowerShell': 3528,\n",
       "    'C#': 3061,\n",
       "    'Go': 816,\n",
       "    'HTML/CSS': 6014,\n",
       "    'JavaScript': 6419,\n",
       "    'PHP': 2489,\n",
       "    'Python': 3971,\n",
       "    'Ruby': 749,\n",
       "    'SQL': 5326,\n",
       "    'TypeScript': 2060,\n",
       "    'VBA': 533,\n",
       "    'Swift': 586,\n",
       "    'Java': 3921,\n",
       "    'R': 564,\n",
       "    'Scala': 383,\n",
       "    'Objective-C': 430,\n",
       "    'Rust': 303,\n",
       "    'WebAssembly': 113,\n",
       "    'Other(s):': 865,\n",
       "    'C++': 2317,\n",
       "    'Clojure': 139,\n",
       "    'Dart': 168,\n",
       "    'Elixir': 139,\n",
       "    'Erlang': 86,\n",
       "    'F#': 123,\n",
       "    'Kotlin': 591,\n",
       "    'C': 1995}}],\n",
       " [{'gender': 'woman',\n",
       "   'languages': {'HTML/CSS': 530,\n",
       "    'JavaScript': 517,\n",
       "    'Python': 313,\n",
       "    'C#': 180,\n",
       "    'SQL': 386,\n",
       "    'Java': 284,\n",
       "    'PHP': 182,\n",
       "    'TypeScript': 130,\n",
       "    'Bash/Shell/PowerShell': 225,\n",
       "    'R': 75,\n",
       "    'Go': 38,\n",
       "    'Ruby': 85,\n",
       "    'C': 121,\n",
       "    'C++': 144,\n",
       "    'Kotlin': 30,\n",
       "    'Assembly': 55,\n",
       "    'Objective-C': 25,\n",
       "    'Swift': 44,\n",
       "    'Other(s):': 58,\n",
       "    'WebAssembly': 8,\n",
       "    'Rust': 13,\n",
       "    'VBA': 38,\n",
       "    'Clojure': 3,\n",
       "    'Dart': 6,\n",
       "    'Erlang': 3,\n",
       "    'Elixir': 10,\n",
       "    'Scala': 26,\n",
       "    'F#': 4}}],\n",
       " [{'gender': 'other',\n",
       "   'languages': {'Bash/Shell/PowerShell': 49,\n",
       "    'HTML/CSS': 96,\n",
       "    'JavaScript': 94,\n",
       "    'PHP': 41,\n",
       "    'SQL': 71,\n",
       "    'Assembly': 15,\n",
       "    'Java': 61,\n",
       "    'Python': 61,\n",
       "    'C#': 34,\n",
       "    'VBA': 14,\n",
       "    'C': 29,\n",
       "    'C++': 30,\n",
       "    'Go': 10,\n",
       "    'Ruby': 17,\n",
       "    'TypeScript': 18,\n",
       "    'Other(s):': 14,\n",
       "    'R': 7,\n",
       "    'WebAssembly': 3,\n",
       "    'Swift': 8,\n",
       "    'Clojure': 4,\n",
       "    'Elixir': 1,\n",
       "    'F#': 1,\n",
       "    'Objective-C': 7,\n",
       "    'Scala': 4,\n",
       "    'Rust': 4,\n",
       "    'Dart': 3,\n",
       "    'Kotlin': 2}}]]"
      ]
     },
     "execution_count": 91,
     "metadata": {},
     "output_type": "execute_result"
    }
   ],
   "source": [
    "languages_by_gender"
   ]
  },
  {
   "cell_type": "code",
   "execution_count": 42,
   "metadata": {},
   "outputs": [],
   "source": [
    "languages_by_gender = []\n"
   ]
  },
  {
   "cell_type": "code",
   "execution_count": 107,
   "metadata": {},
   "outputs": [
    {
     "data": {
      "text/plain": [
       "<sqlite3.Cursor at 0x7f9b3851a9d0>"
      ]
     },
     "execution_count": 107,
     "metadata": {},
     "output_type": "execute_result"
    }
   ],
   "source": [
    "cur.execute('''SELECT Gender, LanguageWorkedWith, COUNT(LanguageWorkedWith)\n",
    "FROM jso11k WHERE Gender = 'Man' and LanguageWorkedWith > 0\n",
    "GROUP BY LanguageWorkedWith ORDER BY COUNT(LanguageWorkedWith)\n",
    "''')"
   ]
  },
  {
   "cell_type": "code",
   "execution_count": 108,
   "metadata": {},
   "outputs": [
    {
     "name": "stdout",
     "output_type": "stream",
     "text": [
      "4108\n"
     ]
    },
    {
     "data": {
      "text/plain": [
       "[('Man', 'Assembly;Bash/Shell/PowerShell', 1),\n",
       " ('Man',\n",
       "  'Assembly;Bash/Shell/PowerShell;C#;Go;HTML/CSS;JavaScript;PHP;Python;Ruby;SQL;TypeScript;VBA',\n",
       "  1)]"
      ]
     },
     "execution_count": 108,
     "metadata": {},
     "output_type": "execute_result"
    }
   ],
   "source": [
    "rows = cur.fetchall()\n",
    "print(len(rows))\n",
    "rows[:2]"
   ]
  },
  {
   "cell_type": "code",
   "execution_count": 110,
   "metadata": {},
   "outputs": [],
   "source": [
    "language_data = []"
   ]
  },
  {
   "cell_type": "code",
   "execution_count": 111,
   "metadata": {},
   "outputs": [],
   "source": [
    "for row in rows:\n",
    "    tempDict = {}\n",
    "    tempDict['gender'] = row[0]\n",
    "    tempDict['language'] = row[1]\n",
    "    tempDict['count'] = row[2]\n",
    "    language_data.append(tempDict)\n",
    "#     languages = row[1].split(';')\n",
    "    \n",
    "#     for language in languages:\n",
    "#         counter = {'language': '', 'count': 0}\n",
    "#         if counter['language'] == language:\n",
    "#             counter['count'] += row[2]\n",
    "        \n",
    "#         tempDict['gender'] = row[0]\n",
    "#         tempDict['language'] = language\n",
    "#         tempDict['count'] = row[2]\n",
    "        \n",
    "    \n",
    "# country_data = []\n",
    "\n",
    "# for row in rows:\n",
    "#     tempDict = {}\n",
    "#     tempDict[\"country\"] = row[0]\n",
    "#     tempDict[\"respondentCount\"] = int(row[1])\n",
    "#     # tempDict[row[0]] = int(row[1])\n",
    "#     country_data.append(tempDict)  "
   ]
  },
  {
   "cell_type": "code",
   "execution_count": 113,
   "metadata": {},
   "outputs": [
    {
     "data": {
      "text/plain": [
       "[{'gender': 'Man', 'language': 'Assembly;Bash/Shell/PowerShell', 'count': 1},\n",
       " {'gender': 'Man',\n",
       "  'language': 'Assembly;Bash/Shell/PowerShell;C#;Go;HTML/CSS;JavaScript;PHP;Python;Ruby;SQL;TypeScript;VBA',\n",
       "  'count': 1},\n",
       " {'gender': 'Man',\n",
       "  'language': 'Assembly;Bash/Shell/PowerShell;C#;Go;HTML/CSS;JavaScript;PHP;Swift;TypeScript',\n",
       "  'count': 1}]"
      ]
     },
     "execution_count": 113,
     "metadata": {},
     "output_type": "execute_result"
    }
   ],
   "source": [
    "language_data[:3]"
   ]
  },
  {
   "cell_type": "code",
   "execution_count": 174,
   "metadata": {},
   "outputs": [
    {
     "data": {
      "text/plain": [
       "[{'man': {'Assembly': 648,\n",
       "   'Bash/Shell/PowerShell': 3528,\n",
       "   'C#': 3061,\n",
       "   'Go': 816,\n",
       "   'HTML/CSS': 6014,\n",
       "   'JavaScript': 6419,\n",
       "   'PHP': 2489,\n",
       "   'Python': 3971,\n",
       "   'Ruby': 749,\n",
       "   'SQL': 5326,\n",
       "   'TypeScript': 2060,\n",
       "   'VBA': 533,\n",
       "   'Swift': 586,\n",
       "   'Java': 3921,\n",
       "   'R': 564,\n",
       "   'Scala': 383,\n",
       "   'Objective-C': 430,\n",
       "   'Rust': 303,\n",
       "   'WebAssembly': 113,\n",
       "   'Other(s):': 865,\n",
       "   'C++': 2317,\n",
       "   'Clojure': 139,\n",
       "   'Dart': 168,\n",
       "   'Elixir': 139,\n",
       "   'Erlang': 86,\n",
       "   'F#': 123,\n",
       "   'Kotlin': 591,\n",
       "   'C': 1995}},\n",
       " {'woman': {'HTML/CSS': 530,\n",
       "   'JavaScript': 517,\n",
       "   'Python': 313,\n",
       "   'C#': 180,\n",
       "   'SQL': 386,\n",
       "   'Java': 284,\n",
       "   'PHP': 182,\n",
       "   'TypeScript': 130,\n",
       "   'Bash/Shell/PowerShell': 225,\n",
       "   'R': 75,\n",
       "   'Go': 38,\n",
       "   'Ruby': 85,\n",
       "   'C': 121,\n",
       "   'C++': 144,\n",
       "   'Kotlin': 30,\n",
       "   'Assembly': 55,\n",
       "   'Objective-C': 25,\n",
       "   'Swift': 44,\n",
       "   'Other(s):': 58,\n",
       "   'WebAssembly': 8,\n",
       "   'Rust': 13,\n",
       "   'VBA': 38,\n",
       "   'Clojure': 3,\n",
       "   'Dart': 6,\n",
       "   'Erlang': 3,\n",
       "   'Elixir': 10,\n",
       "   'Scala': 26,\n",
       "   'F#': 4}},\n",
       " {'other': {'Bash/Shell/PowerShell': 49,\n",
       "   'HTML/CSS': 96,\n",
       "   'JavaScript': 94,\n",
       "   'PHP': 41,\n",
       "   'SQL': 71,\n",
       "   'Assembly': 15,\n",
       "   'Java': 61,\n",
       "   'Python': 61,\n",
       "   'C#': 34,\n",
       "   'VBA': 14,\n",
       "   'C': 29,\n",
       "   'C++': 30,\n",
       "   'Go': 10,\n",
       "   'Ruby': 17,\n",
       "   'TypeScript': 18,\n",
       "   'Other(s):': 14,\n",
       "   'R': 7,\n",
       "   'WebAssembly': 3,\n",
       "   'Swift': 8,\n",
       "   'Clojure': 4,\n",
       "   'Elixir': 1,\n",
       "   'F#': 1,\n",
       "   'Objective-C': 7,\n",
       "   'Scala': 4,\n",
       "   'Rust': 4,\n",
       "   'Dart': 3,\n",
       "   'Kotlin': 2}}]"
      ]
     },
     "execution_count": 174,
     "metadata": {},
     "output_type": "execute_result"
    }
   ],
   "source": [
    "languages_by_gender"
   ]
  },
  {
   "cell_type": "code",
   "execution_count": 171,
   "metadata": {},
   "outputs": [],
   "source": [
    "languages_gender = []"
   ]
  },
  {
   "cell_type": "code",
   "execution_count": 172,
   "metadata": {},
   "outputs": [],
   "source": [
    "for dic in languages_by_gender:\n",
    "#     tempDict = {}\n",
    "    for gender, languages in dic.items():\n",
    "#         tempDict = {}\n",
    "        \n",
    "        for language, count in languages.items():\n",
    "            tempDict = {}\n",
    "            tempDict['gender'] = gender\n",
    "            tempDict['language'] = language\n",
    "            tempDict['count'] = int(count)\n",
    "            \n",
    "    languages_gender.append(tempDict)            \n",
    "        "
   ]
  },
  {
   "cell_type": "code",
   "execution_count": 173,
   "metadata": {},
   "outputs": [
    {
     "data": {
      "text/plain": [
       "[{'gender': 'man', 'language': 'C', 'count': 1995},\n",
       " {'gender': 'woman', 'language': 'F#', 'count': 4},\n",
       " {'gender': 'other', 'language': 'Kotlin', 'count': 2}]"
      ]
     },
     "execution_count": 173,
     "metadata": {},
     "output_type": "execute_result"
    }
   ],
   "source": [
    "languages_gender"
   ]
  },
  {
   "cell_type": "code",
   "execution_count": 93,
   "metadata": {},
   "outputs": [
    {
     "data": {
      "text/plain": [
       "<sqlite3.Cursor at 0x7fd0e0037340>"
      ]
     },
     "execution_count": 93,
     "metadata": {},
     "output_type": "execute_result"
    }
   ],
   "source": [
    "cur.execute('''\n",
    "            SELECT Gender, LanguageWorkedWith, COUNT(LanguageWorkedWith)\n",
    "            FROM jso11k WHERE LanguageWorkedWith > 0\n",
    "            GROUP BY LanguageWorkedWith ORDER BY COUNT(LanguageWorkedWith)\n",
    "        ''')"
   ]
  },
  {
   "cell_type": "code",
   "execution_count": 94,
   "metadata": {},
   "outputs": [],
   "source": [
    "rows = cur.fetchall()"
   ]
  },
  {
   "cell_type": "code",
   "execution_count": 100,
   "metadata": {},
   "outputs": [
    {
     "data": {
      "text/plain": [
       "[('Man',\n",
       "  'Assembly;Bash/Shell/PowerShell;C#;Go;HTML/CSS;JavaScript;PHP;Python;Ruby;SQL;TypeScript;VBA',\n",
       "  1),\n",
       " ('Man',\n",
       "  'Assembly;Bash/Shell/PowerShell;C#;Go;HTML/CSS;JavaScript;PHP;Swift;TypeScript',\n",
       "  1),\n",
       " ('Man', 'Assembly;Bash/Shell/PowerShell;C#;HTML/CSS', 1)]"
      ]
     },
     "execution_count": 100,
     "metadata": {},
     "output_type": "execute_result"
    }
   ],
   "source": [
    "rows[:3]"
   ]
  },
  {
   "cell_type": "code",
   "execution_count": null,
   "metadata": {},
   "outputs": [],
   "source": []
  },
  {
   "cell_type": "code",
   "execution_count": 96,
   "metadata": {},
   "outputs": [
    {
     "data": {
      "text/plain": [
       "[{'gender': 'man',\n",
       "  'language_freq': {'Assembly': 648,\n",
       "   'Bash/Shell/PowerShell': 3528,\n",
       "   'C#': 3061,\n",
       "   'Go': 816,\n",
       "   'HTML/CSS': 6014,\n",
       "   'JavaScript': 6419,\n",
       "   'PHP': 2489,\n",
       "   'Python': 3971,\n",
       "   'Ruby': 749,\n",
       "   'SQL': 5326,\n",
       "   'TypeScript': 2060,\n",
       "   'VBA': 533,\n",
       "   'Swift': 586,\n",
       "   'Java': 3921,\n",
       "   'R': 564,\n",
       "   'Scala': 383,\n",
       "   'Objective-C': 430,\n",
       "   'Rust': 303,\n",
       "   'WebAssembly': 113,\n",
       "   'Other(s):': 865,\n",
       "   'C++': 2317,\n",
       "   'Clojure': 139,\n",
       "   'Dart': 168,\n",
       "   'Elixir': 139,\n",
       "   'Erlang': 86,\n",
       "   'F#': 123,\n",
       "   'Kotlin': 591,\n",
       "   'C': 1995}},\n",
       " {'gender': 'woman',\n",
       "  'language_freq': {'HTML/CSS': 530,\n",
       "   'JavaScript': 517,\n",
       "   'Python': 313,\n",
       "   'C#': 180,\n",
       "   'SQL': 386,\n",
       "   'Java': 284,\n",
       "   'PHP': 182,\n",
       "   'TypeScript': 130,\n",
       "   'Bash/Shell/PowerShell': 225,\n",
       "   'R': 75,\n",
       "   'Go': 38,\n",
       "   'Ruby': 85,\n",
       "   'C': 121,\n",
       "   'C++': 144,\n",
       "   'Kotlin': 30,\n",
       "   'Assembly': 55,\n",
       "   'Objective-C': 25,\n",
       "   'Swift': 44,\n",
       "   'Other(s):': 58,\n",
       "   'WebAssembly': 8,\n",
       "   'Rust': 13,\n",
       "   'VBA': 38,\n",
       "   'Clojure': 3,\n",
       "   'Dart': 6,\n",
       "   'Erlang': 3,\n",
       "   'Elixir': 10,\n",
       "   'Scala': 26,\n",
       "   'F#': 4}},\n",
       " {'gender': 'other',\n",
       "  'language_freq': {'Bash/Shell/PowerShell': 49,\n",
       "   'HTML/CSS': 96,\n",
       "   'JavaScript': 94,\n",
       "   'PHP': 41,\n",
       "   'SQL': 71,\n",
       "   'Assembly': 15,\n",
       "   'Java': 61,\n",
       "   'Python': 61,\n",
       "   'C#': 34,\n",
       "   'VBA': 14,\n",
       "   'C': 29,\n",
       "   'C++': 30,\n",
       "   'Go': 10,\n",
       "   'Ruby': 17,\n",
       "   'TypeScript': 18,\n",
       "   'Other(s):': 14,\n",
       "   'R': 7,\n",
       "   'WebAssembly': 3,\n",
       "   'Swift': 8,\n",
       "   'Clojure': 4,\n",
       "   'Elixir': 1,\n",
       "   'F#': 1,\n",
       "   'Objective-C': 7,\n",
       "   'Scala': 4,\n",
       "   'Rust': 4,\n",
       "   'Dart': 3,\n",
       "   'Kotlin': 2}}]"
      ]
     },
     "execution_count": 96,
     "metadata": {},
     "output_type": "execute_result"
    }
   ],
   "source": [
    "languages_by_gender"
   ]
  },
  {
   "cell_type": "code",
   "execution_count": 97,
   "metadata": {},
   "outputs": [],
   "source": [
    "languages_by_gender = []"
   ]
  },
  {
   "cell_type": "code",
   "execution_count": 96,
   "metadata": {},
   "outputs": [],
   "source": [
    "genders = [\"Man\", \"Woman\", \"NOT IN ('Man', 'Woman')\"]\n",
    "db_column = \"LanguageWorkedWith\"\n",
    "\n",
    "qery_obj = {}\n",
    "\n",
    "for gender in genders:\n",
    "    qery_obj[gender] = f'''\n",
    "        SELECT {db_column}, COUNT({db_column})\n",
    "        FROM jso11k WHERE Gender = {gender} and {db_column} > 0\n",
    "        GROUP BY {db_column} ORDER BY COUNT({db_column}) DESC\n",
    "    '''\n",
    "\n",
    "\n"
   ]
  },
  {
   "cell_type": "code",
   "execution_count": 97,
   "metadata": {},
   "outputs": [
    {
     "data": {
      "text/plain": [
       "{'Man': '\\n        SELECT LanguageWorkedWith, COUNT(LanguageWorkedWith)\\n        FROM jso11k WHERE Gender = Man and LanguageWorkedWith > 0\\n        GROUP BY LanguageWorkedWith ORDER BY COUNT(LanguageWorkedWith) DESC\\n    ',\n",
       " 'Woman': '\\n        SELECT LanguageWorkedWith, COUNT(LanguageWorkedWith)\\n        FROM jso11k WHERE Gender = Woman and LanguageWorkedWith > 0\\n        GROUP BY LanguageWorkedWith ORDER BY COUNT(LanguageWorkedWith) DESC\\n    ',\n",
       " \"NOT IN ('Man', 'Woman')\": \"\\n        SELECT LanguageWorkedWith, COUNT(LanguageWorkedWith)\\n        FROM jso11k WHERE Gender = NOT IN ('Man', 'Woman') and LanguageWorkedWith > 0\\n        GROUP BY LanguageWorkedWith ORDER BY COUNT(LanguageWorkedWith) DESC\\n    \"}"
      ]
     },
     "execution_count": 97,
     "metadata": {},
     "output_type": "execute_result"
    }
   ],
   "source": [
    "qery_obj"
   ]
  },
  {
   "cell_type": "code",
   "execution_count": 102,
   "metadata": {},
   "outputs": [
    {
     "data": {
      "text/plain": [
       "{'= Man': 'SELECT LanguageWorkedWith, COUNT(LanguageWorkedWith) FROM jso11k WHERE Gender = Man and LanguageWorkedWith > 0 GROUP BY LanguageWorkedWith ORDER BY COUNT(LanguageWorkedWith) DESC',\n",
       " ' = Woman': 'SELECT LanguageWorkedWith, COUNT(LanguageWorkedWith) FROM jso11k WHERE Gender  = Woman and LanguageWorkedWith > 0 GROUP BY LanguageWorkedWith ORDER BY COUNT(LanguageWorkedWith) DESC',\n",
       " \"NOT IN ('Man', 'Woman')\": \"SELECT LanguageWorkedWith, COUNT(LanguageWorkedWith) FROM jso11k WHERE Gender NOT IN ('Man', 'Woman') and LanguageWorkedWith > 0 GROUP BY LanguageWorkedWith ORDER BY COUNT(LanguageWorkedWith) DESC\"}"
      ]
     },
     "execution_count": 102,
     "metadata": {},
     "output_type": "execute_result"
    }
   ],
   "source": [
    "genders = [\"= Man\", \" = Woman\", \"NOT IN ('Man', 'Woman')\"]\n",
    "# g = ['man', 'woman', 'other']\n",
    "db_column = \"LanguageWorkedWith\"\n",
    "\n",
    "qery_obj = {}\n",
    "\n",
    "for gender in genders:\n",
    "    qery_obj[gender] = (\n",
    "    f\"SELECT {db_column}, COUNT({db_column}) \"\n",
    "    f\"FROM jso11k WHERE Gender {gender} and {db_column} > 0 \"\n",
    "    f\"GROUP BY {db_column} ORDER BY COUNT({db_column}) DESC\"\n",
    ")\n",
    "\n",
    "qery_obj"
   ]
  },
  {
   "cell_type": "code",
   "execution_count": null,
   "metadata": {},
   "outputs": [],
   "source": []
  },
  {
   "cell_type": "code",
   "execution_count": null,
   "metadata": {},
   "outputs": [],
   "source": [
    "app = Flask(__name__)\n",
    "\n",
    "@app.route(\"/\")\n",
    "def index():\n",
    "    \"\"\"Return the homepage.\"\"\"\n",
    "    return render_template(\"index.html\")\n",
    "\n",
    "@app.route(\"/columns\")\n",
    "def names():\n",
    "    \"\"\"Return Column names from  a random sample  n = 11000 rows from the original dataset.\"\"\"\n",
    "\n",
    "    conn = sqlite3.connect(\"dash_app/db/js_overload.sqlite\")\n",
    "    cur = conn.cursor()\n",
    "    cur.execute(\"PRAGMA table_info(jso11k)\")\n",
    "    rows = cur.fetchall()\n",
    "    column_names = [i[1] for i in rows]\n",
    "    return jsonify(column_names)\n",
    "\n",
    "    # COUNTRIES API\n",
    "@app.route(\"/countries\")\n",
    "def countries():\n",
    "    \"\"\"\n",
    "     Return a list of number of survey respondents by country\n",
    "    \"\"\"\n",
    "    conn = sqlite3.connect(\"dash_app/db/js_overload.sqlite\")\n",
    "    cur = conn.cursor()\n",
    "\n",
    "    query_string = '''\n",
    "        SELECT Country, count(country) FROM jso11k\n",
    "        GROUP BY Country\n",
    "        ORDER BY COUNT(Country) DESC\n",
    "    '''\n",
    "\n",
    "    cur.execute(query_string)\n",
    "    rows = cur.fetchall()\n",
    "\n",
    "    country_data = []\n",
    "\n",
    "    for row in rows:\n",
    "        tempDict = {}\n",
    "        tempDict[\"country\"] = row[0]\n",
    "        tempDict[\"respondentCount\"] = int(row[1])\n",
    "        # tempDict[row[0]] = int(row[1])\n",
    "        country_data.append(tempDict)\n",
    "\n",
    "    return jsonify(country_data)\n",
    "\n",
    "####################################################\n",
    "####################################################\n",
    "\n",
    "@app.route(\"/genders\")\n",
    "def genders():\n",
    "    \"\"\"\n",
    "     Return a list of respondents count and percentages out of those who answered the Gender question\n",
    "    \"\"\"\n",
    "    conn = sqlite3.connect(\"dash_app/db/js_overload.sqlite\")\n",
    "    cur = conn.cursor()\n",
    "\n",
    "    genders_query = \"SELECT Gender, COUNT(Gender) FROM jso11k GROUP BY Gender\"\n",
    "\n",
    "    cur.execute(genders_query)\n",
    "    rows = cur.fetchall()\n",
    "\n",
    "    gender_data = []\n",
    "    for row in rows:\n",
    "        temp_dict = {}\n",
    "        temp_dict[\"gender\"] = row[0]\n",
    "        temp_dict[\"gender_count\"] = row[1]\n",
    "        gender_data.append(temp_dict)\n",
    "\n",
    "    return jsonify(gender_data)\n",
    "####################################################\n",
    "####################################################\n",
    "\n",
    "    # MAP CHART ROUTE\n",
    "    # @TODO route for the map chart\n",
    "# THE CSS STYLE IS JUST A DEMO\n",
    "@app.route(\"/mapChart\")\n",
    "def mapChart():\n",
    "    \"\"\"Return the mapChart page.\"\"\"\n",
    "    return render_template(\"mapChart.html\")\n",
    "###################################################\n",
    "####################################################\n",
    "    # LINE CHART ROUTE\n",
    "    # @TODO route for the LINE chart\n",
    "# THE CSS STYLE IS JUST A DEMO\n",
    "@app.route(\"/lineChart\")\n",
    "def lineChart():\n",
    "    \"\"\"Return the lineChart page.\"\"\"\n",
    "    return render_template(\"lineChart.html\")\n",
    "\n",
    "####################################################\n",
    "####################################################\n",
    "    # LINE CHART ROUTE\n",
    "    # @TODO route for the donutChart chart\n",
    "# THE CSS STYLE IS JUST A DEMO\n",
    "@app.route(\"/donutChart\")\n",
    "def donutChart():\n",
    "    \"\"\"Return the lineChart page.\"\"\"\n",
    "    return render_template(\"donutChart.html\")\n",
    "    \n",
    "####################################################\n",
    "####################################################\n",
    "\n",
    "    # BAR CHART ROUTE\n",
    "    # @TODO route for the  BAR chart\n",
    "# THE CSS STYLE IS JUST A DEMO\n",
    "@app.route(\"/barChart\")\n",
    "def barChart():\n",
    "    \"\"\"Return the barChart page.\"\"\"\n",
    "    return render_template(\"barChart.html\")####################################################\n",
    "\n",
    "if __name__ == \"__main__\":\n",
    "    app.run()\n"
   ]
  }
 ],
 "metadata": {
  "kernelspec": {
   "display_name": "Python 3",
   "language": "python",
   "name": "python3"
  },
  "language_info": {
   "codemirror_mode": {
    "name": "ipython",
    "version": 3
   },
   "file_extension": ".py",
   "mimetype": "text/x-python",
   "name": "python",
   "nbconvert_exporter": "python",
   "pygments_lexer": "ipython3",
   "version": "3.7.3"
  }
 },
 "nbformat": 4,
 "nbformat_minor": 2
}
